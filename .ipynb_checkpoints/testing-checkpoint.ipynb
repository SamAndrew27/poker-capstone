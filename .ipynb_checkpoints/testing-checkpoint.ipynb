{
 "cells": [
  {
   "cell_type": "code",
   "execution_count": 6,
   "metadata": {},
   "outputs": [],
   "source": [
    "import pandas as pd\n",
    "from datetime import datetime\n",
    "import numpy as np \n",
    "pd.set_option('display.max_columns', None)\n",
    "from datetime import timedelta\n",
    "import sqlite3\n"
   ]
  },
  {
   "cell_type": "code",
   "execution_count": 7,
   "metadata": {
    "scrolled": true
   },
   "outputs": [],
   "source": [
    "conn = sqlite3.connect(\"/home/sam/Documents/DSI/capstone/poker/data/dh_backup_20210330_081745/drivehud.db\")\n",
    "hand_history = pd.read_sql_query(\"select * from HandHistories;\", conn)\n",
    "hand_history.HandHistory = hand_history.HandHistory.str.split('\\r\\n')\n",
    "\n",
    "df = hand_history.copy()\n",
    "df_full = pd.read_csv('src/datacleaning/playing_around.csv')\n",
    "\n"
   ]
  },
  {
   "cell_type": "code",
   "execution_count": 8,
   "metadata": {},
   "outputs": [],
   "source": [
    "# save this function as is, will develop the better version seperately \n",
    "def prior_actions_for_stats(df):\n",
    "    '''\n",
    "    finds actions of player prior to the hand currently being played \n",
    "    '''\n",
    "    mask = df['TournamentNumber'] != '' # ignores cash hands for time being, make this optional w/ argument? \n",
    "    df = df[mask]\n",
    "    \n",
    "    total_dic = {} # probably replace this w/ assignment directly to the dataframe \n",
    "    unique_TN = df['TournamentNumber'].unique()\n",
    "    for num in unique_TN: # iterates through all unique tournament numbers\n",
    "        mask = df['TournamentNumber'] == num\n",
    "        tourn_df = df[mask]\n",
    "        for idx, row in tourn_df.iterrows(): # go through each row of tournament \n",
    "            row_dic = {}\n",
    "            mask = tourn_df.index < idx\n",
    "            df_prior = tourn_df[mask] # hands that occured previously in this tournament \n",
    "            for player in row['player_names']: # looping through all players present in hand\n",
    "                player_actions = []\n",
    "                for dic in df_prior['action_type']: # looking at all prior hands \n",
    "                    if player in dic:\n",
    "                        player_actions.append(dic[player])\n",
    "                row_dic[player] = player_actions\n",
    "            total_dic[idx] = row_dic\n",
    "    return total_dic"
   ]
  },
  {
   "cell_type": "code",
   "execution_count": 5,
   "metadata": {},
   "outputs": [
    {
     "data": {
      "text/plain": [
       "3802894.0     269\n",
       "3475394.0     216\n",
       "38403674.0    214\n",
       "1181208.0     190\n",
       "1245950.0     181\n",
       "             ... \n",
       "39396807.0      1\n",
       "38495698.0      1\n",
       "40791101.0      1\n",
       "1836442.0       1\n",
       "5506052.0       1\n",
       "Name: TournamentNumber, Length: 1103, dtype: int64"
      ]
     },
     "execution_count": 5,
     "metadata": {},
     "output_type": "execute_result"
    }
   ],
   "source": [
    "df_full.TournamentNumber.value_counts()"
   ]
  },
  {
   "cell_type": "code",
   "execution_count": 7,
   "metadata": {},
   "outputs": [],
   "source": [
    "df['player_names'] = df['HandHistory'].apply(lambda x: player_names(x))"
   ]
  },
  {
   "cell_type": "code",
   "execution_count": 8,
   "metadata": {},
   "outputs": [],
   "source": [
    "df['action_type'] = df.HandHistory.apply(lambda x: action_type(x))\n"
   ]
  },
  {
   "cell_type": "code",
   "execution_count": 4,
   "metadata": {},
   "outputs": [],
   "source": [
    "mask = df.TournamentNumber != ''\n",
    "df = df[mask]"
   ]
  },
  {
   "cell_type": "code",
   "execution_count": 9,
   "metadata": {},
   "outputs": [],
   "source": [
    "def player_names(x):\n",
    "    player = None\n",
    "    result = []\n",
    "    for elem in x:\n",
    "        if 'dealer' in elem: \n",
    "            for sub_elem in elem.split(): # finds lines where player names are specified \n",
    "                if 'name' in sub_elem:\n",
    "                    player = sub_elem.replace('name=\"', '').replace('\"', '')\n",
    "                    result.append(player)\n",
    "                    break \n",
    "    return result \n"
   ]
  },
  {
   "cell_type": "code",
   "execution_count": 18,
   "metadata": {},
   "outputs": [
    {
     "data": {
      "text/plain": [
       "['<session sessioncode=\"1968702\">',\n",
       " '<general>',\n",
       " '<client_version>19.9.7.4</client_version>',\n",
       " '<uncalled_bet_enabled>false</uncalled_bet_enabled>',\n",
       " '<mode>real</mode>',\n",
       " '<gametype>Holdem NL</gametype>',\n",
       " '<tablename>$400 Guaranteed (Super Turbo 10K Chips) (#38261159)</tablename>',\n",
       " '<duration>N/A</duration>',\n",
       " '<gamecount>0</gamecount>',\n",
       " '<startdate>2020-12-24 06:15:11</startdate>',\n",
       " '<currency>USD</currency>',\n",
       " '<nickname>Hero</nickname>',\n",
       " '<bets>0</bets>',\n",
       " '<wins>0</wins>',\n",
       " '<chipsin>0</chipsin>',\n",
       " '<chipsout>0</chipsout>',\n",
       " '<ipoints>0</ipoints>',\n",
       " '<statuspoints>0</statuspoints>',\n",
       " '<awardpoints>0</awardpoints>',\n",
       " '<tournamentcode>38261159</tournamentcode>',\n",
       " '<tournamentname>$400 Guaranteed (Super Turbo 10K Chips) (#38261159)</tournamentname>',\n",
       " '<place>0</place>',\n",
       " '<buyin>$3+$0.30</buyin>',\n",
       " '<totalbuyin>$3.30</totalbuyin>',\n",
       " '<win>0</win>',\n",
       " '<maxplayers>9</maxplayers>',\n",
       " '<pokersite>Ignition</pokersite>',\n",
       " '</general>',\n",
       " '<game gamecode=\"4222046472\">',\n",
       " '<general>',\n",
       " '<startdate>2020-12-24 06:34:32</startdate>',\n",
       " '<players>',\n",
       " '<player seat=\"1\" name=\"Hero\" chips=\"19980\" dealer=\"0\" win=\"0\" bet=\"0\" rebuy=\"0\" addon=\"0\" />',\n",
       " '<player seat=\"2\" name=\"P80_167003QN\" chips=\"9825\" dealer=\"0\" win=\"0\" bet=\"200\" rebuy=\"0\" addon=\"0\" />',\n",
       " '<player seat=\"3\" name=\"P51_693948JS\" chips=\"10255\" dealer=\"1\" win=\"0\" bet=\"0\" rebuy=\"0\" addon=\"0\" />',\n",
       " '<player seat=\"4\" name=\"P25_907103NB\" chips=\"9740\" dealer=\"0\" win=\"0\" bet=\"2600\" rebuy=\"0\" addon=\"0\" />',\n",
       " '<player seat=\"5\" name=\"P30_860131BP\" chips=\"9750\" dealer=\"0\" win=\"0\" bet=\"200\" rebuy=\"0\" addon=\"0\" />',\n",
       " '<player seat=\"6\" name=\"P13_614157QV\" chips=\"8125\" dealer=\"0\" win=\"0\" bet=\"0\" rebuy=\"0\" addon=\"0\" />',\n",
       " '<player seat=\"7\" name=\"P62_720795OF\" chips=\"10670\" dealer=\"0\" win=\"5600\" bet=\"2600\" rebuy=\"0\" addon=\"0\" />',\n",
       " '<player seat=\"8\" name=\"P40_224868IJ\" chips=\"9550\" dealer=\"0\" win=\"0\" bet=\"0\" rebuy=\"0\" addon=\"0\" />',\n",
       " '<player seat=\"9\" name=\"P71_137346KX\" chips=\"12115\" dealer=\"0\" win=\"0\" bet=\"0\" rebuy=\"0\" addon=\"0\" />',\n",
       " '</players>',\n",
       " '</general>',\n",
       " '<round no=\"0\">',\n",
       " '<action no=\"1\" player=\"P25_907103NB\" type=\"1\" sum=\"100\" cards=\"[cards]\" />',\n",
       " '<action no=\"2\" player=\"P30_860131BP\" type=\"2\" sum=\"200\" cards=\"[cards]\" />',\n",
       " '</round>',\n",
       " '<round no=\"1\">',\n",
       " '<cards type=\"Pocket\" player=\"P51_693948JS\">X X</cards>',\n",
       " '<cards type=\"Pocket\" player=\"P25_907103NB\">D4 C7</cards>',\n",
       " '<cards type=\"Pocket\" player=\"P30_860131BP\">X X</cards>',\n",
       " '<cards type=\"Pocket\" player=\"P13_614157QV\">X X</cards>',\n",
       " '<cards type=\"Pocket\" player=\"P62_720795OF\">D8 D10</cards>',\n",
       " '<cards type=\"Pocket\" player=\"P40_224868IJ\">X X</cards>',\n",
       " '<cards type=\"Pocket\" player=\"P71_137346KX\">X X</cards>',\n",
       " '<cards type=\"Pocket\" player=\"Hero\">DJ H3</cards>',\n",
       " '<cards type=\"Pocket\" player=\"P80_167003QN\">X X</cards>',\n",
       " '<action no=\"3\" player=\"P13_614157QV\" type=\"0\" sum=\"0\" cards=\"\" />',\n",
       " '<action no=\"4\" player=\"P62_720795OF\" type=\"3\" sum=\"200\" cards=\"\" />',\n",
       " '<action no=\"5\" player=\"P40_224868IJ\" type=\"0\" sum=\"0\" cards=\"\" />',\n",
       " '<action no=\"6\" player=\"P71_137346KX\" type=\"0\" sum=\"0\" cards=\"\" />',\n",
       " '<action no=\"7\" player=\"Hero\" type=\"0\" sum=\"0\" cards=\"\" />',\n",
       " '<action no=\"8\" player=\"P80_167003QN\" type=\"3\" sum=\"200\" cards=\"\" />',\n",
       " '<action no=\"9\" player=\"P51_693948JS\" type=\"0\" sum=\"0\" cards=\"\" />',\n",
       " '<action no=\"10\" player=\"P25_907103NB\" type=\"3\" sum=\"100\" cards=\"\" />',\n",
       " '<action no=\"11\" player=\"P30_860131BP\" type=\"0\" sum=\"0\" cards=\"\" />',\n",
       " '</round>',\n",
       " '<round no=\"2\">',\n",
       " '<cards type=\"Flop\" player=\"\">D6 D3 D9</cards>',\n",
       " '<action no=\"12\" player=\"P25_907103NB\" type=\"5\" sum=\"400\" cards=\"\" />',\n",
       " '<action no=\"13\" player=\"P62_720795OF\" type=\"3\" sum=\"400\" cards=\"\" />',\n",
       " '<action no=\"14\" player=\"P80_167003QN\" type=\"0\" sum=\"0\" cards=\"\" />',\n",
       " '</round>',\n",
       " '<round no=\"3\">',\n",
       " '<cards type=\"Turn\" player=\"\">C4</cards>',\n",
       " '<action no=\"15\" player=\"P25_907103NB\" type=\"5\" sum=\"600\" cards=\"\" />',\n",
       " '<action no=\"16\" player=\"P62_720795OF\" type=\"23\" sum=\"1400\" cards=\"\" />',\n",
       " '<action no=\"17\" player=\"P25_907103NB\" type=\"3\" sum=\"800\" cards=\"\" />',\n",
       " '</round>',\n",
       " '<round no=\"4\">',\n",
       " '<cards type=\"River\" player=\"\">D2</cards>',\n",
       " '<action no=\"18\" player=\"P25_907103NB\" type=\"5\" sum=\"600\" cards=\"\" />',\n",
       " '<action no=\"19\" player=\"P62_720795OF\" type=\"3\" sum=\"600\" cards=\"\" />',\n",
       " '</round>',\n",
       " '</game>',\n",
       " '</session>']"
      ]
     },
     "execution_count": 18,
     "metadata": {},
     "output_type": "execute_result"
    }
   ],
   "source": [
    "df.HandHistory.iloc[40006]"
   ]
  },
  {
   "cell_type": "code",
   "execution_count": 74,
   "metadata": {},
   "outputs": [
    {
     "data": {
      "text/plain": [
       "''"
      ]
     },
     "execution_count": 74,
     "metadata": {},
     "output_type": "execute_result"
    }
   ],
   "source": [
    "df.TournamentNumber.iloc[1000]"
   ]
  },
  {
   "cell_type": "code",
   "execution_count": 24,
   "metadata": {},
   "outputs": [
    {
     "data": {
      "text/plain": [
       "['<session sessioncode=\"1968702\">',\n",
       " '<general>',\n",
       " '<client_version>19.9.7.4</client_version>',\n",
       " '<uncalled_bet_enabled>false</uncalled_bet_enabled>',\n",
       " '<mode>real</mode>',\n",
       " '<gametype>Holdem NL</gametype>',\n",
       " '<tablename>$400 Guaranteed (Super Turbo 10K Chips) (#38261159)</tablename>',\n",
       " '<duration>N/A</duration>',\n",
       " '<gamecount>0</gamecount>',\n",
       " '<startdate>2020-12-24 06:15:11</startdate>',\n",
       " '<currency>USD</currency>',\n",
       " '<nickname>Hero</nickname>',\n",
       " '<bets>0</bets>',\n",
       " '<wins>0</wins>',\n",
       " '<chipsin>0</chipsin>',\n",
       " '<chipsout>0</chipsout>',\n",
       " '<ipoints>0</ipoints>',\n",
       " '<statuspoints>0</statuspoints>',\n",
       " '<awardpoints>0</awardpoints>',\n",
       " '<tournamentcode>38261159</tournamentcode>',\n",
       " '<tournamentname>$400 Guaranteed (Super Turbo 10K Chips) (#38261159)</tournamentname>',\n",
       " '<place>0</place>',\n",
       " '<buyin>$3+$0.30</buyin>',\n",
       " '<totalbuyin>$3.30</totalbuyin>',\n",
       " '<win>0</win>',\n",
       " '<maxplayers>9</maxplayers>',\n",
       " '<pokersite>Ignition</pokersite>',\n",
       " '</general>',\n",
       " '<game gamecode=\"4222043627\">',\n",
       " '<general>',\n",
       " '<startdate>2020-12-24 06:29:08</startdate>',\n",
       " '<players>',\n",
       " '<player seat=\"1\" name=\"Hero\" chips=\"20130\" dealer=\"0\" win=\"0\" bet=\"100\" rebuy=\"0\" addon=\"0\" />',\n",
       " '<player seat=\"2\" name=\"P80_167003QN\" chips=\"10000\" dealer=\"0\" win=\"0\" bet=\"0\" rebuy=\"0\" addon=\"0\" />',\n",
       " '<player seat=\"3\" name=\"P51_693948JS\" chips=\"9580\" dealer=\"0\" win=\"0\" bet=\"825\" rebuy=\"0\" addon=\"0\" />',\n",
       " '<player seat=\"4\" name=\"P25_907103NB\" chips=\"10540\" dealer=\"0\" win=\"12340\" bet=\"10540\" rebuy=\"0\" addon=\"0\" />',\n",
       " '<player seat=\"5\" name=\"P30_860131BP\" chips=\"9750\" dealer=\"0\" win=\"0\" bet=\"0\" rebuy=\"0\" addon=\"0\" />',\n",
       " '<player seat=\"6\" name=\"P13_614157QV\" chips=\"9800\" dealer=\"0\" win=\"0\" bet=\"825\" rebuy=\"0\" addon=\"0\" />',\n",
       " '<player seat=\"7\" name=\"P62_720795OF\" chips=\"10670\" dealer=\"0\" win=\"0\" bet=\"0\" rebuy=\"0\" addon=\"0\" />',\n",
       " '<player seat=\"8\" name=\"P40_224868IJ\" chips=\"9700\" dealer=\"1\" win=\"0\" bet=\"0\" rebuy=\"0\" addon=\"0\" />',\n",
       " '<player seat=\"9\" name=\"P71_137346KX\" chips=\"9840\" dealer=\"0\" win=\"0\" bet=\"50\" rebuy=\"0\" addon=\"0\" />',\n",
       " '</players>',\n",
       " '</general>',\n",
       " '<round no=\"0\">',\n",
       " '<action no=\"1\" player=\"P71_137346KX\" type=\"1\" sum=\"50\" cards=\"[cards]\" />',\n",
       " '<action no=\"2\" player=\"Hero\" type=\"2\" sum=\"100\" cards=\"[cards]\" />',\n",
       " '</round>',\n",
       " '<round no=\"1\">',\n",
       " '<cards type=\"Pocket\" player=\"P51_693948JS\">X X</cards>',\n",
       " '<cards type=\"Pocket\" player=\"P25_907103NB\">X X</cards>',\n",
       " '<cards type=\"Pocket\" player=\"P30_860131BP\">X X</cards>',\n",
       " '<cards type=\"Pocket\" player=\"P13_614157QV\">X X</cards>',\n",
       " '<cards type=\"Pocket\" player=\"P62_720795OF\">X X</cards>',\n",
       " '<cards type=\"Pocket\" player=\"P40_224868IJ\">X X</cards>',\n",
       " '<cards type=\"Pocket\" player=\"P71_137346KX\">X X</cards>',\n",
       " '<cards type=\"Pocket\" player=\"Hero\">H2 CJ</cards>',\n",
       " '<cards type=\"Pocket\" player=\"P80_167003QN\">X X</cards>',\n",
       " '<action no=\"3\" player=\"P80_167003QN\" type=\"0\" sum=\"0\" cards=\"\" />',\n",
       " '<action no=\"4\" player=\"P51_693948JS\" type=\"3\" sum=\"100\" cards=\"\" />',\n",
       " '<action no=\"5\" player=\"P25_907103NB\" type=\"3\" sum=\"100\" cards=\"\" />',\n",
       " '<action no=\"6\" player=\"P30_860131BP\" type=\"0\" sum=\"0\" cards=\"\" />',\n",
       " '<action no=\"7\" player=\"P13_614157QV\" type=\"23\" sum=\"300\" cards=\"\" />',\n",
       " '<action no=\"8\" player=\"P62_720795OF\" type=\"0\" sum=\"0\" cards=\"\" />',\n",
       " '<action no=\"9\" player=\"P40_224868IJ\" type=\"0\" sum=\"0\" cards=\"\" />',\n",
       " '<action no=\"10\" player=\"P71_137346KX\" type=\"0\" sum=\"0\" cards=\"\" />',\n",
       " '<action no=\"11\" player=\"Hero\" type=\"0\" sum=\"0\" cards=\"\" />',\n",
       " '<action no=\"12\" player=\"P51_693948JS\" type=\"3\" sum=\"200\" cards=\"\" />',\n",
       " '<action no=\"13\" player=\"P25_907103NB\" type=\"3\" sum=\"200\" cards=\"\" />',\n",
       " '</round>',\n",
       " '<round no=\"2\">',\n",
       " '<cards type=\"Flop\" player=\"\">S6 D7 S4</cards>',\n",
       " '<action no=\"14\" player=\"P51_693948JS\" type=\"4\" sum=\"0\" cards=\"\" />',\n",
       " '<action no=\"15\" player=\"P25_907103NB\" type=\"4\" sum=\"0\" cards=\"\" />',\n",
       " '<action no=\"16\" player=\"P13_614157QV\" type=\"5\" sum=\"525\" cards=\"\" />',\n",
       " '<action no=\"17\" player=\"P51_693948JS\" type=\"3\" sum=\"525\" cards=\"\" />',\n",
       " '<action no=\"18\" player=\"P25_907103NB\" type=\"7\" sum=\"10240\" cards=\"\" />',\n",
       " '<action no=\"19\" player=\"P13_614157QV\" type=\"0\" sum=\"0\" cards=\"\" />',\n",
       " '<action no=\"20\" player=\"P51_693948JS\" type=\"0\" sum=\"0\" cards=\"\" />',\n",
       " '</round>',\n",
       " '</game>',\n",
       " '</session>']"
      ]
     },
     "execution_count": 24,
     "metadata": {},
     "output_type": "execute_result"
    }
   ],
   "source": [
    "df.HandHistory.iloc[40002]"
   ]
  },
  {
   "cell_type": "code",
   "execution_count": 21,
   "metadata": {},
   "outputs": [
    {
     "data": {
      "text/plain": [
       "['<session sessioncode=\"1968702\">',\n",
       " '<general>',\n",
       " '<client_version>19.9.7.4</client_version>',\n",
       " '<uncalled_bet_enabled>false</uncalled_bet_enabled>',\n",
       " '<mode>real</mode>',\n",
       " '<gametype>Holdem NL</gametype>',\n",
       " '<tablename>$400 Guaranteed (Super Turbo 10K Chips) (#38261159)</tablename>',\n",
       " '<duration>N/A</duration>',\n",
       " '<gamecount>0</gamecount>',\n",
       " '<startdate>2020-12-24 06:15:11</startdate>',\n",
       " '<currency>USD</currency>',\n",
       " '<nickname>Hero</nickname>',\n",
       " '<bets>0</bets>',\n",
       " '<wins>0</wins>',\n",
       " '<chipsin>0</chipsin>',\n",
       " '<chipsout>0</chipsout>',\n",
       " '<ipoints>0</ipoints>',\n",
       " '<statuspoints>0</statuspoints>',\n",
       " '<awardpoints>0</awardpoints>',\n",
       " '<tournamentcode>38261159</tournamentcode>',\n",
       " '<tournamentname>$400 Guaranteed (Super Turbo 10K Chips) (#38261159)</tournamentname>',\n",
       " '<place>0</place>',\n",
       " '<buyin>$3+$0.30</buyin>',\n",
       " '<totalbuyin>$3.30</totalbuyin>',\n",
       " '<win>0</win>',\n",
       " '<maxplayers>9</maxplayers>',\n",
       " '<pokersite>Ignition</pokersite>',\n",
       " '</general>',\n",
       " '<game gamecode=\"4222048018\">',\n",
       " '<general>',\n",
       " '<startdate>2020-12-24 06:37:45</startdate>',\n",
       " '<players>',\n",
       " '<player seat=\"1\" name=\"Hero\" chips=\"19980\" dealer=\"0\" win=\"0\" bet=\"25\" rebuy=\"0\" addon=\"0\" />',\n",
       " '<player seat=\"2\" name=\"P80_167003QN\" chips=\"9425\" dealer=\"0\" win=\"0\" bet=\"25\" rebuy=\"0\" addon=\"0\" />',\n",
       " '<player seat=\"3\" name=\"P51_693948JS\" chips=\"10055\" dealer=\"0\" win=\"0\" bet=\"25\" rebuy=\"0\" addon=\"0\" />',\n",
       " '<player seat=\"4\" name=\"P25_907103NB\" chips=\"7840\" dealer=\"0\" win=\"0\" bet=\"275\" rebuy=\"0\" addon=\"0\" />',\n",
       " '<player seat=\"5\" name=\"P30_860131BP\" chips=\"9450\" dealer=\"1\" win=\"0\" bet=\"25\" rebuy=\"0\" addon=\"0\" />',\n",
       " '<player seat=\"6\" name=\"P13_614157QV\" chips=\"7925\" dealer=\"0\" win=\"2213\" bet=\"1263\" rebuy=\"0\" addon=\"0\" />',\n",
       " '<player seat=\"7\" name=\"P62_720795OF\" chips=\"13670\" dealer=\"0\" win=\"0\" bet=\"525\" rebuy=\"0\" addon=\"0\" />',\n",
       " '<player seat=\"8\" name=\"P40_224868IJ\" chips=\"9550\" dealer=\"0\" win=\"0\" bet=\"25\" rebuy=\"0\" addon=\"0\" />',\n",
       " '<player seat=\"9\" name=\"P71_137346KX\" chips=\"12115\" dealer=\"0\" win=\"0\" bet=\"25\" rebuy=\"0\" addon=\"0\" />',\n",
       " '</players>',\n",
       " '</general>',\n",
       " '<round no=\"0\">',\n",
       " '<action no=\"1\" player=\"P51_693948JS\" type=\"15\" sum=\"25\" cards=\"[cards]\" />',\n",
       " '<action no=\"2\" player=\"P25_907103NB\" type=\"15\" sum=\"25\" cards=\"[cards]\" />',\n",
       " '<action no=\"3\" player=\"P30_860131BP\" type=\"15\" sum=\"25\" cards=\"[cards]\" />',\n",
       " '<action no=\"4\" player=\"P13_614157QV\" type=\"15\" sum=\"25\" cards=\"[cards]\" />',\n",
       " '<action no=\"5\" player=\"P62_720795OF\" type=\"15\" sum=\"25\" cards=\"[cards]\" />',\n",
       " '<action no=\"6\" player=\"P40_224868IJ\" type=\"15\" sum=\"25\" cards=\"[cards]\" />',\n",
       " '<action no=\"7\" player=\"P71_137346KX\" type=\"15\" sum=\"25\" cards=\"[cards]\" />',\n",
       " '<action no=\"8\" player=\"Hero\" type=\"15\" sum=\"25\" cards=\"[cards]\" />',\n",
       " '<action no=\"9\" player=\"P80_167003QN\" type=\"15\" sum=\"25\" cards=\"[cards]\" />',\n",
       " '<action no=\"10\" player=\"P13_614157QV\" type=\"1\" sum=\"125\" cards=\"[cards]\" />',\n",
       " '<action no=\"11\" player=\"P62_720795OF\" type=\"2\" sum=\"250\" cards=\"[cards]\" />',\n",
       " '</round>',\n",
       " '<round no=\"1\">',\n",
       " '<cards type=\"Pocket\" player=\"P51_693948JS\">X X</cards>',\n",
       " '<cards type=\"Pocket\" player=\"P25_907103NB\">X X</cards>',\n",
       " '<cards type=\"Pocket\" player=\"P30_860131BP\">X X</cards>',\n",
       " '<cards type=\"Pocket\" player=\"P13_614157QV\">X X</cards>',\n",
       " '<cards type=\"Pocket\" player=\"P62_720795OF\">X X</cards>',\n",
       " '<cards type=\"Pocket\" player=\"P40_224868IJ\">X X</cards>',\n",
       " '<cards type=\"Pocket\" player=\"P71_137346KX\">X X</cards>',\n",
       " '<cards type=\"Pocket\" player=\"Hero\">C8 S10</cards>',\n",
       " '<cards type=\"Pocket\" player=\"P80_167003QN\">X X</cards>',\n",
       " '<action no=\"12\" player=\"P40_224868IJ\" type=\"0\" sum=\"0\" cards=\"\" />',\n",
       " '<action no=\"13\" player=\"P71_137346KX\" type=\"0\" sum=\"0\" cards=\"\" />',\n",
       " '<action no=\"14\" player=\"Hero\" type=\"0\" sum=\"0\" cards=\"\" />',\n",
       " '<action no=\"15\" player=\"P80_167003QN\" type=\"0\" sum=\"0\" cards=\"\" />',\n",
       " '<action no=\"16\" player=\"P51_693948JS\" type=\"0\" sum=\"0\" cards=\"\" />',\n",
       " '<action no=\"17\" player=\"P25_907103NB\" type=\"3\" sum=\"250\" cards=\"\" />',\n",
       " '<action no=\"18\" player=\"P30_860131BP\" type=\"0\" sum=\"0\" cards=\"\" />',\n",
       " '<action no=\"19\" player=\"P13_614157QV\" type=\"3\" sum=\"125\" cards=\"\" />',\n",
       " '<action no=\"20\" player=\"P62_720795OF\" type=\"4\" sum=\"0\" cards=\"\" />',\n",
       " '</round>',\n",
       " '<round no=\"2\">',\n",
       " '<cards type=\"Flop\" player=\"\">SJ H10 D9</cards>',\n",
       " '<action no=\"21\" player=\"P13_614157QV\" type=\"4\" sum=\"0\" cards=\"\" />',\n",
       " '<action no=\"22\" player=\"P62_720795OF\" type=\"4\" sum=\"0\" cards=\"\" />',\n",
       " '<action no=\"23\" player=\"P25_907103NB\" type=\"4\" sum=\"0\" cards=\"\" />',\n",
       " '</round>',\n",
       " '<round no=\"3\">',\n",
       " '<cards type=\"Turn\" player=\"\">C9</cards>',\n",
       " '<action no=\"24\" player=\"P13_614157QV\" type=\"4\" sum=\"0\" cards=\"\" />',\n",
       " '<action no=\"25\" player=\"P62_720795OF\" type=\"5\" sum=\"250\" cards=\"\" />',\n",
       " '<action no=\"26\" player=\"P25_907103NB\" type=\"0\" sum=\"0\" cards=\"\" />',\n",
       " '<action no=\"27\" player=\"P13_614157QV\" type=\"3\" sum=\"250\" cards=\"\" />',\n",
       " '</round>',\n",
       " '<round no=\"4\">',\n",
       " '<cards type=\"River\" player=\"\">HJ</cards>',\n",
       " '<action no=\"28\" player=\"P13_614157QV\" type=\"5\" sum=\"738\" cards=\"\" />',\n",
       " '<action no=\"29\" player=\"P62_720795OF\" type=\"0\" sum=\"0\" cards=\"\" />',\n",
       " '</round>',\n",
       " '</game>',\n",
       " '</session>']"
      ]
     },
     "execution_count": 21,
     "metadata": {},
     "output_type": "execute_result"
    }
   ],
   "source": [
    "df.HandHistory.iloc[40008]"
   ]
  },
  {
   "cell_type": "code",
   "execution_count": 23,
   "metadata": {},
   "outputs": [
    {
     "data": {
      "text/plain": [
       "['<session sessioncode=\"1968702\">',\n",
       " '<general>',\n",
       " '<client_version>19.9.7.4</client_version>',\n",
       " '<uncalled_bet_enabled>false</uncalled_bet_enabled>',\n",
       " '<mode>real</mode>',\n",
       " '<gametype>Holdem NL</gametype>',\n",
       " '<tablename>$400 Guaranteed (Super Turbo 10K Chips) (#38261159)</tablename>',\n",
       " '<duration>N/A</duration>',\n",
       " '<gamecount>0</gamecount>',\n",
       " '<startdate>2020-12-24 06:15:11</startdate>',\n",
       " '<currency>USD</currency>',\n",
       " '<nickname>Hero</nickname>',\n",
       " '<bets>0</bets>',\n",
       " '<wins>0</wins>',\n",
       " '<chipsin>0</chipsin>',\n",
       " '<chipsout>0</chipsout>',\n",
       " '<ipoints>0</ipoints>',\n",
       " '<statuspoints>0</statuspoints>',\n",
       " '<awardpoints>0</awardpoints>',\n",
       " '<tournamentcode>38261159</tournamentcode>',\n",
       " '<tournamentname>$400 Guaranteed (Super Turbo 10K Chips) (#38261159)</tournamentname>',\n",
       " '<place>0</place>',\n",
       " '<buyin>$3+$0.30</buyin>',\n",
       " '<totalbuyin>$3.30</totalbuyin>',\n",
       " '<win>0</win>',\n",
       " '<maxplayers>9</maxplayers>',\n",
       " '<pokersite>Ignition</pokersite>',\n",
       " '</general>',\n",
       " '<game gamecode=\"4222048797\">',\n",
       " '<general>',\n",
       " '<startdate>2020-12-24 06:38:38</startdate>',\n",
       " '<players>',\n",
       " '<player seat=\"1\" name=\"Hero\" chips=\"19955\" dealer=\"0\" win=\"0\" bet=\"25\" rebuy=\"0\" addon=\"0\" />',\n",
       " '<player seat=\"2\" name=\"P80_167003QN\" chips=\"9400\" dealer=\"0\" win=\"0\" bet=\"25\" rebuy=\"0\" addon=\"0\" />',\n",
       " '<player seat=\"3\" name=\"P51_693948JS\" chips=\"10030\" dealer=\"0\" win=\"0\" bet=\"25\" rebuy=\"0\" addon=\"0\" />',\n",
       " '<player seat=\"4\" name=\"P25_907103NB\" chips=\"7565\" dealer=\"0\" win=\"0\" bet=\"25\" rebuy=\"0\" addon=\"0\" />',\n",
       " '<player seat=\"5\" name=\"P30_860131BP\" chips=\"9425\" dealer=\"0\" win=\"0\" bet=\"25\" rebuy=\"0\" addon=\"0\" />',\n",
       " '<player seat=\"6\" name=\"P13_614157QV\" chips=\"8875\" dealer=\"1\" win=\"0\" bet=\"275\" rebuy=\"0\" addon=\"0\" />',\n",
       " '<player seat=\"7\" name=\"P62_720795OF\" chips=\"13145\" dealer=\"0\" win=\"1225\" bet=\"525\" rebuy=\"0\" addon=\"0\" />',\n",
       " '<player seat=\"8\" name=\"P40_224868IJ\" chips=\"9525\" dealer=\"0\" win=\"0\" bet=\"275\" rebuy=\"0\" addon=\"0\" />',\n",
       " '<player seat=\"9\" name=\"P71_137346KX\" chips=\"12090\" dealer=\"0\" win=\"0\" bet=\"25\" rebuy=\"0\" addon=\"0\" />',\n",
       " '</players>',\n",
       " '</general>',\n",
       " '<round no=\"0\">',\n",
       " '<action no=\"1\" player=\"P51_693948JS\" type=\"15\" sum=\"25\" cards=\"[cards]\" />',\n",
       " '<action no=\"2\" player=\"P25_907103NB\" type=\"15\" sum=\"25\" cards=\"[cards]\" />',\n",
       " '<action no=\"3\" player=\"P30_860131BP\" type=\"15\" sum=\"25\" cards=\"[cards]\" />',\n",
       " '<action no=\"4\" player=\"P13_614157QV\" type=\"15\" sum=\"25\" cards=\"[cards]\" />',\n",
       " '<action no=\"5\" player=\"P62_720795OF\" type=\"15\" sum=\"25\" cards=\"[cards]\" />',\n",
       " '<action no=\"6\" player=\"P40_224868IJ\" type=\"15\" sum=\"25\" cards=\"[cards]\" />',\n",
       " '<action no=\"7\" player=\"P71_137346KX\" type=\"15\" sum=\"25\" cards=\"[cards]\" />',\n",
       " '<action no=\"8\" player=\"Hero\" type=\"15\" sum=\"25\" cards=\"[cards]\" />',\n",
       " '<action no=\"9\" player=\"P80_167003QN\" type=\"15\" sum=\"25\" cards=\"[cards]\" />',\n",
       " '<action no=\"10\" player=\"P62_720795OF\" type=\"1\" sum=\"125\" cards=\"[cards]\" />',\n",
       " '<action no=\"11\" player=\"P40_224868IJ\" type=\"2\" sum=\"250\" cards=\"[cards]\" />',\n",
       " '</round>',\n",
       " '<round no=\"1\">',\n",
       " '<cards type=\"Pocket\" player=\"P51_693948JS\">X X</cards>',\n",
       " '<cards type=\"Pocket\" player=\"P25_907103NB\">X X</cards>',\n",
       " '<cards type=\"Pocket\" player=\"P30_860131BP\">X X</cards>',\n",
       " '<cards type=\"Pocket\" player=\"P13_614157QV\">X X</cards>',\n",
       " '<cards type=\"Pocket\" player=\"P62_720795OF\">X X</cards>',\n",
       " '<cards type=\"Pocket\" player=\"P40_224868IJ\">X X</cards>',\n",
       " '<cards type=\"Pocket\" player=\"P71_137346KX\">X X</cards>',\n",
       " '<cards type=\"Pocket\" player=\"Hero\">DK S7</cards>',\n",
       " '<cards type=\"Pocket\" player=\"P80_167003QN\">X X</cards>',\n",
       " '<action no=\"12\" player=\"P71_137346KX\" type=\"0\" sum=\"0\" cards=\"\" />',\n",
       " '<action no=\"13\" player=\"Hero\" type=\"0\" sum=\"0\" cards=\"\" />',\n",
       " '<action no=\"14\" player=\"P80_167003QN\" type=\"0\" sum=\"0\" cards=\"\" />',\n",
       " '<action no=\"15\" player=\"P51_693948JS\" type=\"0\" sum=\"0\" cards=\"\" />',\n",
       " '<action no=\"16\" player=\"P25_907103NB\" type=\"0\" sum=\"0\" cards=\"\" />',\n",
       " '<action no=\"17\" player=\"P30_860131BP\" type=\"0\" sum=\"0\" cards=\"\" />',\n",
       " '<action no=\"18\" player=\"P13_614157QV\" type=\"3\" sum=\"250\" cards=\"\" />',\n",
       " '<action no=\"19\" player=\"P62_720795OF\" type=\"3\" sum=\"125\" cards=\"\" />',\n",
       " '<action no=\"20\" player=\"P40_224868IJ\" type=\"4\" sum=\"0\" cards=\"\" />',\n",
       " '</round>',\n",
       " '<round no=\"2\">',\n",
       " '<cards type=\"Flop\" player=\"\">DJ H6 SJ</cards>',\n",
       " '<action no=\"21\" player=\"P62_720795OF\" type=\"4\" sum=\"0\" cards=\"\" />',\n",
       " '<action no=\"22\" player=\"P40_224868IJ\" type=\"4\" sum=\"0\" cards=\"\" />',\n",
       " '<action no=\"23\" player=\"P13_614157QV\" type=\"4\" sum=\"0\" cards=\"\" />',\n",
       " '</round>',\n",
       " '<round no=\"3\">',\n",
       " '<cards type=\"Turn\" player=\"\">D7</cards>',\n",
       " '<action no=\"24\" player=\"P62_720795OF\" type=\"5\" sum=\"250\" cards=\"\" />',\n",
       " '<action no=\"25\" player=\"P40_224868IJ\" type=\"0\" sum=\"0\" cards=\"\" />',\n",
       " '<action no=\"26\" player=\"P13_614157QV\" type=\"0\" sum=\"0\" cards=\"\" />',\n",
       " '</round>',\n",
       " '</game>',\n",
       " '</session>']"
      ]
     },
     "execution_count": 23,
     "metadata": {},
     "output_type": "execute_result"
    }
   ],
   "source": [
    "df.HandHistory.iloc[40009]"
   ]
  },
  {
   "cell_type": "code",
   "execution_count": 36,
   "metadata": {},
   "outputs": [
    {
     "data": {
      "text/plain": [
       "['<session sessioncode=\"459742\">',\n",
       " '<general>',\n",
       " '<mode>real</mode>',\n",
       " '<gametype>Holdem NL</gametype>',\n",
       " '<tablename>3-Table Sit &amp; Go (#30839441)</tablename>',\n",
       " '<duration>N/A</duration>',\n",
       " '<gamecount>0</gamecount>',\n",
       " '<startdate>2019-10-24 03:06:00</startdate>',\n",
       " '<currency>USD</currency>',\n",
       " '<nickname>Hero</nickname>',\n",
       " '<bets>0</bets>',\n",
       " '<wins>0</wins>',\n",
       " '<chipsin>0</chipsin>',\n",
       " '<chipsout>0</chipsout>',\n",
       " '<ipoints>0</ipoints>',\n",
       " '<statuspoints>0</statuspoints>',\n",
       " '<awardpoints>0</awardpoints>',\n",
       " '<tournamentname>3-Table Sit &amp; Go (#30839441)</tournamentname>',\n",
       " '<place>0</place>',\n",
       " '<buyin>$1+$0.10</buyin>',\n",
       " '<totalbuyin>$1.10</totalbuyin>',\n",
       " '<win>0</win>',\n",
       " '<maxplayers>9</maxplayers>',\n",
       " '<pokersite>Ignition</pokersite>',\n",
       " '</general>',\n",
       " '<game gamecode=\"3951255714\">',\n",
       " '<general>',\n",
       " '<startdate>2019-10-24 04:31:40</startdate>',\n",
       " '<players>',\n",
       " '<player seat=\"6\" name=\"P22_272545FH\" chips=\"2690\" dealer=\"0\" win=\"3640\" bet=\"2690\" rebuy=\"0\" addon=\"0\" />',\n",
       " '<player seat=\"9\" name=\"P5_405793KB\" chips=\"10879\" dealer=\"1\" win=\"0\" bet=\"50\" rebuy=\"0\" addon=\"0\" />',\n",
       " '<player seat=\"1\" name=\"Hero\" chips=\"5755\" dealer=\"0\" win=\"0\" bet=\"300\" rebuy=\"0\" addon=\"0\" />',\n",
       " '<player seat=\"2\" name=\"P26_251842VD\" chips=\"13357\" dealer=\"0\" win=\"0\" bet=\"550\" rebuy=\"0\" addon=\"0\" />',\n",
       " '<player seat=\"4\" name=\"P20_321234MI\" chips=\"7819\" dealer=\"0\" win=\"0\" bet=\"50\" rebuy=\"0\" addon=\"0\" />',\n",
       " '</players>',\n",
       " '</general>',\n",
       " '<round no=\"0\">',\n",
       " '<action no=\"1\" player=\"P22_272545FH\" type=\"15\" sum=\"50\" cards=\"[cards]\" />',\n",
       " '<action no=\"2\" player=\"P5_405793KB\" type=\"15\" sum=\"50\" cards=\"[cards]\" />',\n",
       " '<action no=\"3\" player=\"Hero\" type=\"15\" sum=\"50\" cards=\"[cards]\" />',\n",
       " '<action no=\"4\" player=\"P26_251842VD\" type=\"15\" sum=\"50\" cards=\"[cards]\" />',\n",
       " '<action no=\"5\" player=\"P20_321234MI\" type=\"15\" sum=\"50\" cards=\"[cards]\" />',\n",
       " '<action no=\"6\" player=\"Hero\" type=\"1\" sum=\"250\" cards=\"[cards]\" />',\n",
       " '<action no=\"7\" player=\"P26_251842VD\" type=\"2\" sum=\"500\" cards=\"[cards]\" />',\n",
       " '</round>',\n",
       " '<round no=\"1\">',\n",
       " '<cards type=\"Pocket\" player=\"P22_272545FH\">X X</cards>',\n",
       " '<cards type=\"Pocket\" player=\"P5_405793KB\">X X</cards>',\n",
       " '<cards type=\"Pocket\" player=\"Hero\">HK D4</cards>',\n",
       " '<cards type=\"Pocket\" player=\"P26_251842VD\">X X</cards>',\n",
       " '<cards type=\"Pocket\" player=\"P20_321234MI\">X X</cards>',\n",
       " '<action no=\"8\" player=\"P20_321234MI\" type=\"0\" sum=\"0\" cards=\"\" />',\n",
       " '<action no=\"9\" player=\"P22_272545FH\" type=\"7\" sum=\"2640\" cards=\"\" />',\n",
       " '<action no=\"10\" player=\"P5_405793KB\" type=\"0\" sum=\"0\" cards=\"\" />',\n",
       " '<action no=\"11\" player=\"Hero\" type=\"0\" sum=\"0\" cards=\"\" />',\n",
       " '<action no=\"12\" player=\"P26_251842VD\" type=\"0\" sum=\"0\" cards=\"\" />',\n",
       " '</round>',\n",
       " '</game>',\n",
       " '</session>']"
      ]
     },
     "execution_count": 36,
     "metadata": {},
     "output_type": "execute_result"
    }
   ],
   "source": [
    "df.HandHistory.iloc[85]"
   ]
  },
  {
   "cell_type": "code",
   "execution_count": 5,
   "metadata": {},
   "outputs": [],
   "source": [
    "train = pd.read_csv('data/train_classification_tournaments.csv') # 8556 ---total:10695"
   ]
  },
  {
   "cell_type": "code",
   "execution_count": 4,
   "metadata": {},
   "outputs": [],
   "source": [
    "hold = pd.read_csv('data/updated_DF.csv') #2139"
   ]
  },
  {
   "cell_type": "code",
   "execution_count": 7,
   "metadata": {},
   "outputs": [
    {
     "data": {
      "text/plain": [
       "'[\\'<session sessioncode=\"3607122\">\\', \\'<general>\\', \\'<client_version>19.9.7.4</client_version>\\', \\'<uncalled_bet_enabled>false</uncalled_bet_enabled>\\', \\'<mode>real</mode>\\', \\'<gametype>Holdem NL</gametype>\\', \\'<tablename>Hyper Turbo (500 Chips) (#41304105)</tablename>\\', \\'<duration>N/A</duration>\\', \\'<gamecount>0</gamecount>\\', \\'<startdate>2021-03-29 15:40:43</startdate>\\', \\'<currency>USD</currency>\\', \\'<nickname>Hero</nickname>\\', \\'<bets>0</bets>\\', \\'<wins>0</wins>\\', \\'<chipsin>0</chipsin>\\', \\'<chipsout>0</chipsout>\\', \\'<ipoints>0</ipoints>\\', \\'<statuspoints>0</statuspoints>\\', \\'<awardpoints>0</awardpoints>\\', \\'<tournamentcode>41304105</tournamentcode>\\', \\'<tournamentname>Hyper Turbo (500 Chips) (#41304105)</tournamentname>\\', \\'<place>6</place>\\', \\'<buyin>$1+$0.05</buyin>\\', \\'<totalbuyin>$1.05</totalbuyin>\\', \\'<win>0</win>\\', \\'<maxplayers>6</maxplayers>\\', \\'<pokersite>Ignition</pokersite>\\', \\'</general>\\', \\'<game gamecode=\"4286208914\">\\', \\'<general>\\', \\'<startdate>2021-03-29 15:44:14</startdate>\\', \\'<players>\\', \\'<player seat=\"2\" name=\"P6_483288ER\" chips=\"370\" dealer=\"1\" win=\"0\" bet=\"0\" rebuy=\"0\" addon=\"0\" />\\', \\'<player seat=\"3\" name=\"P1_576126TS\" chips=\"480\" dealer=\"0\" win=\"0\" bet=\"10\" rebuy=\"0\" addon=\"0\" />\\', \\'<player seat=\"4\" name=\"P3_754646CT\" chips=\"480\" dealer=\"0\" win=\"0\" bet=\"240\" rebuy=\"0\" addon=\"0\" />\\', \\'<player seat=\"5\" name=\"P2_876231BJ\" chips=\"1240\" dealer=\"0\" win=\"0\" bet=\"0\" rebuy=\"0\" addon=\"0\" />\\', \\'<player seat=\"6\" name=\"Hero\" chips=\"430\" dealer=\"0\" win=\"490\" bet=\"240\" rebuy=\"0\" addon=\"0\" />\\', \\'</players>\\', \\'</general>\\', \\'<round no=\"0\">\\', \\'<action no=\"1\" player=\"P1_576126TS\" type=\"1\" sum=\"10\" cards=\"[cards]\" />\\', \\'<action no=\"2\" player=\"P3_754646CT\" type=\"2\" sum=\"20\" cards=\"[cards]\" />\\', \\'</round>\\', \\'<round no=\"1\">\\', \\'<cards type=\"Pocket\" player=\"P6_483288ER\">X X</cards>\\', \\'<cards type=\"Pocket\" player=\"P1_576126TS\">X X</cards>\\', \\'<cards type=\"Pocket\" player=\"P3_754646CT\">X X</cards>\\', \\'<cards type=\"Pocket\" player=\"P2_876231BJ\">X X</cards>\\', \\'<cards type=\"Pocket\" player=\"Hero\">DK DQ</cards>\\', \\'<action no=\"3\" player=\"P2_876231BJ\" type=\"0\" sum=\"0\" cards=\"\" />\\', \\'<action no=\"4\" player=\"Hero\" type=\"23\" sum=\"40\" cards=\"\" />\\', \\'<action no=\"5\" player=\"P6_483288ER\" type=\"0\" sum=\"0\" cards=\"\" />\\', \\'<action no=\"6\" player=\"P1_576126TS\" type=\"0\" sum=\"0\" cards=\"\" />\\', \\'<action no=\"7\" player=\"P3_754646CT\" type=\"3\" sum=\"20\" cards=\"\" />\\', \\'</round>\\', \\'<round no=\"2\">\\', \\'<cards type=\"Flop\" player=\"\">DJ C9 S6</cards>\\', \\'<action no=\"8\" player=\"P3_754646CT\" type=\"4\" sum=\"0\" cards=\"\" />\\', \\'<action no=\"9\" player=\"Hero\" type=\"5\" sum=\"40\" cards=\"\" />\\', \\'<action no=\"10\" player=\"P3_754646CT\" type=\"3\" sum=\"40\" cards=\"\" />\\', \\'</round>\\', \\'<round no=\"3\">\\', \\'<cards type=\"Turn\" player=\"\">CK</cards>\\', \\'<action no=\"11\" player=\"P3_754646CT\" type=\"4\" sum=\"0\" cards=\"\" />\\', \\'<action no=\"12\" player=\"Hero\" type=\"5\" sum=\"60\" cards=\"\" />\\', \\'<action no=\"13\" player=\"P3_754646CT\" type=\"3\" sum=\"60\" cards=\"\" />\\', \\'</round>\\', \\'<round no=\"4\">\\', \\'<cards type=\"River\" player=\"\">H10</cards>\\', \\'<action no=\"14\" player=\"P3_754646CT\" type=\"4\" sum=\"0\" cards=\"\" />\\', \\'<action no=\"15\" player=\"Hero\" type=\"5\" sum=\"100\" cards=\"\" />\\', \\'<action no=\"16\" player=\"P3_754646CT\" type=\"3\" sum=\"100\" cards=\"\" />\\', \\'</round>\\', \\'</game>\\', \\'</session>\\']'"
      ]
     },
     "execution_count": 7,
     "metadata": {},
     "output_type": "execute_result"
    }
   ],
   "source": [
    "mask = hold.river_bet >0\n",
    "hold[mask]\n",
    "hold.HandHistory.iloc[54121].split()"
   ]
  },
  {
   "cell_type": "code",
   "execution_count": null,
   "metadata": {},
   "outputs": [],
   "source": [
    "df['hour'] = df['HandHistoryTimestamp'].apply(lambda x: x.hour) # will need to determine degree to which time is offset\n",
    "df['year_month_day'] = pd.to_datetime(df['HandHistoryTimestamp']).dt.to_period('D').dt.to_timestamp()  # will need to determine degree to which time is offset\n",
    "df['days_since_start'] = df['year_month_day'].apply(lambda x: (x - pd.to_datetime('2019-10-23 00:00:00')).days)\n"
   ]
  },
  {
   "cell_type": "code",
   "execution_count": null,
   "metadata": {
    "scrolled": true
   },
   "outputs": [],
   "source": [
    "df[['HandHistoryTimestamp', 'hour', 'year_month_day', 'days_since_start']]"
   ]
  },
  {
   "cell_type": "code",
   "execution_count": 2,
   "metadata": {},
   "outputs": [
    {
     "name": "stdout",
     "output_type": "stream",
     "text": [
      "<class 'pandas.core.frame.DataFrame'>\n",
      "RangeIndex: 54304 entries, 0 to 54303\n",
      "Data columns (total 41 columns):\n",
      " #   Column                     Non-Null Count  Dtype  \n",
      "---  ------                     --------------  -----  \n",
      " 0   Unnamed: 0                 54304 non-null  int64  \n",
      " 1   HandHistoryId              54304 non-null  int64  \n",
      " 2   HandNumber                 54304 non-null  int64  \n",
      " 3   PokerSiteId                54304 non-null  int64  \n",
      " 4   HandHistory                54304 non-null  object \n",
      " 5   HandHistoryTimestamp       54304 non-null  object \n",
      " 6   GameType                   54304 non-null  int64  \n",
      " 7   TournamentNumber           39551 non-null  float64\n",
      " 8   buyin                      54304 non-null  float64\n",
      " 9   cash_or_tourn              54304 non-null  object \n",
      " 10  my_blind_anti_total        54304 non-null  float64\n",
      " 11  my_cards                   53293 non-null  object \n",
      " 12  starting_stack             53293 non-null  float64\n",
      " 13  tournament_type            39551 non-null  object \n",
      " 14  won                        54304 non-null  float64\n",
      " 15  bet                        53293 non-null  float64\n",
      " 16  total_players              54304 non-null  int64  \n",
      " 17  position                   53293 non-null  float64\n",
      " 18  table_max_players          54304 non-null  int64  \n",
      " 19  hour                       54304 non-null  int64  \n",
      " 20  year_month_day             54304 non-null  object \n",
      " 21  days_since_start           54304 non-null  int64  \n",
      " 22  hand_frequency             54304 non-null  int64  \n",
      " 23  blinds                     54304 non-null  object \n",
      " 24  made_money                 54304 non-null  int64  \n",
      " 25  card_rank                  54304 non-null  float64\n",
      " 26  BB                         54128 non-null  float64\n",
      " 27  BB_in_stack                53123 non-null  float64\n",
      " 28  net_outcome                53293 non-null  float64\n",
      " 29  all_in                     53293 non-null  float64\n",
      " 30  money_beyond_blind         54304 non-null  int64  \n",
      " 31  outcome_relative_to_start  53293 non-null  float64\n",
      " 32  flop_bet                   54304 non-null  float64\n",
      " 33  turn_bet                   54304 non-null  float64\n",
      " 34  river_bet                  54304 non-null  float64\n",
      " 35  preflop_bet                53293 non-null  float64\n",
      " 36  high_card                  53284 non-null  float64\n",
      " 37  low_card                   53284 non-null  float64\n",
      " 38  suited                     54304 non-null  int64  \n",
      " 39  pocket_pair                54304 non-null  int64  \n",
      " 40  gap                        53284 non-null  float64\n",
      "dtypes: float64(20), int64(14), object(7)\n",
      "memory usage: 17.0+ MB\n"
     ]
    }
   ],
   "source": [
    "df = pd.read_csv('data/updated_DF.csv')\n",
    "df.info()"
   ]
  },
  {
   "cell_type": "code",
   "execution_count": null,
   "metadata": {},
   "outputs": [],
   "source": []
  },
  {
   "cell_type": "code",
   "execution_count": null,
   "metadata": {},
   "outputs": [],
   "source": []
  },
  {
   "cell_type": "code",
   "execution_count": null,
   "metadata": {},
   "outputs": [],
   "source": []
  },
  {
   "cell_type": "code",
   "execution_count": null,
   "metadata": {
    "scrolled": false
   },
   "outputs": [],
   "source": []
  },
  {
   "cell_type": "code",
   "execution_count": null,
   "metadata": {},
   "outputs": [],
   "source": []
  },
  {
   "cell_type": "code",
   "execution_count": null,
   "metadata": {},
   "outputs": [],
   "source": [
    "def vpip(df):\n",
    "    '''\n",
    "    finds vpip of player prior to the hand currently being played \n",
    "    '''\n",
    "    unique_TN = df['TournamentNumber'].unique()\n",
    "    for num in unique_TN: # iterates through all unique tournament numbers\n",
    "        mask = df['TournamentNumber'] = num\n",
    "        tourn_df = df[mask]\n",
    "        for index, row in tourn_df.iterrows():\n",
    "            "
   ]
  },
  {
   "cell_type": "code",
   "execution_count": 6,
   "metadata": {},
   "outputs": [],
   "source": [
    "def action_type(x):\n",
    "    '''\n",
    "    finds all action types a player made preflop \n",
    "    '''\n",
    "    result = {}\n",
    "    start = 0\n",
    "    stop = 0\n",
    "    player = None\n",
    "    action_type = None \n",
    "    for idx, elem in enumerate(x): # finds start of preflop action \n",
    "        if 'Pocket' in elem:\n",
    "            start = idx\n",
    "    subset = x[start+1:]\n",
    "    for idx, elem in enumerate(subset):# finds end of preflop action\n",
    "        if '</round>' in elem:\n",
    "            stop = idx\n",
    "            break \n",
    "    subset = subset[:stop]\n",
    "    \n",
    "    for elem in subset: # iterating through preflop action to find player/type \n",
    "        for sub_elem in elem.split():\n",
    "            if 'player' in sub_elem:\n",
    "                player = sub_elem.replace('player=\"', '').replace('\"', '')\n",
    "            if 'type' in sub_elem:\n",
    "                action_type = int(sub_elem.replace('type=\"', '').replace('\"', ''))\n",
    "        if player in result: # checks to see if player has already taken an action \n",
    "            break\n",
    "        else:\n",
    "            result[player] = action_type\n",
    "    return result "
   ]
  },
  {
   "cell_type": "code",
   "execution_count": null,
   "metadata": {},
   "outputs": [],
   "source": [
    "def preflop_actions(x):\n",
    "    '''\n",
    "    creates a dictionary of whether each player raised or bet each hand \n",
    "    we'll let a 2 = PFR\n",
    "    and a 1 = VPIP \n",
    "    '''\n",
    "    BB = x['BB']\n",
    "    HH = X['HandHistory']\n",
    "    for elem in BB:\n",
    "        if B"
   ]
  },
  {
   "cell_type": "code",
   "execution_count": null,
   "metadata": {},
   "outputs": [],
   "source": [
    "# rather than doing this, lets create a feature for each row that has a dictionary w/ the actions of each player,\n",
    "# then use that to create what we're trying to do here \n",
    "def preflop_stats(df):\n",
    "    unique_TN = df['TournamentNumber'].unique()\n",
    "    for num in unique_TN: # iterates through all unique tournament numbers\n",
    "        mask = df['TournamentNumber'] = num\n",
    "        tourn_df = df[mask]\n",
    "        for index, row in tourn_df.iterrows():"
   ]
  },
  {
   "cell_type": "code",
   "execution_count": null,
   "metadata": {},
   "outputs": [],
   "source": []
  }
 ],
 "metadata": {
  "kernelspec": {
   "display_name": "Python 3",
   "language": "python",
   "name": "python3"
  },
  "language_info": {
   "codemirror_mode": {
    "name": "ipython",
    "version": 3
   },
   "file_extension": ".py",
   "mimetype": "text/x-python",
   "name": "python",
   "nbconvert_exporter": "python",
   "pygments_lexer": "ipython3",
   "version": "3.7.9"
  }
 },
 "nbformat": 4,
 "nbformat_minor": 4
}
