{
 "cells": [
  {
   "cell_type": "code",
   "execution_count": 6,
   "metadata": {},
   "outputs": [],
   "source": [
    "import pandas as pd \n",
    "pd.set_option('display.max_columns', None)\n"
   ]
  },
  {
   "cell_type": "code",
   "execution_count": 7,
   "metadata": {},
   "outputs": [],
   "source": [
    "train = pd.read_csv('../data/train_classification_tournaments.csv')\n",
    "hold = pd.read_csv('../data/holdout_classification_tournaments.csv')\n"
   ]
  },
  {
   "cell_type": "code",
   "execution_count": 8,
   "metadata": {},
   "outputs": [
    {
     "data": {
      "text/plain": [
       "0.598661800486618"
      ]
     },
     "execution_count": 8,
     "metadata": {},
     "output_type": "execute_result"
    }
   ],
   "source": [
    "train.made_or_lost.sum() / len(train)"
   ]
  },
  {
   "cell_type": "code",
   "execution_count": 9,
   "metadata": {},
   "outputs": [
    {
     "data": {
      "text/plain": [
       "0.6045719844357976"
      ]
     },
     "execution_count": 9,
     "metadata": {},
     "output_type": "execute_result"
    }
   ],
   "source": [
    "hold.made_or_lost.sum() / len(hold)"
   ]
  },
  {
   "cell_type": "code",
   "execution_count": 10,
   "metadata": {},
   "outputs": [
    {
     "data": {
      "text/plain": [
       "10276"
      ]
     },
     "execution_count": 10,
     "metadata": {},
     "output_type": "execute_result"
    }
   ],
   "source": [
    "len(train) + len(hold)"
   ]
  },
  {
   "cell_type": "code",
   "execution_count": 11,
   "metadata": {},
   "outputs": [
    {
     "name": "stdout",
     "output_type": "stream",
     "text": [
      "<class 'pandas.core.frame.DataFrame'>\n",
      "RangeIndex: 8220 entries, 0 to 8219\n",
      "Data columns (total 25 columns):\n",
      " #   Column                                    Non-Null Count  Dtype  \n",
      "---  ------                                    --------------  -----  \n",
      " 0   Unnamed: 0                                8220 non-null   int64  \n",
      " 1   buyin                                     8220 non-null   float64\n",
      " 2   BB_in_stack                               8220 non-null   float64\n",
      " 3   total_players                             8220 non-null   int64  \n",
      " 4   position                                  8220 non-null   float64\n",
      " 5   low_card                                  8220 non-null   float64\n",
      " 6   high_card                                 8220 non-null   float64\n",
      " 7   suited                                    8220 non-null   int64  \n",
      " 8   pocket_pair                               8220 non-null   int64  \n",
      " 9   card_rank                                 8220 non-null   float64\n",
      " 10  hour                                      8220 non-null   int64  \n",
      " 11  days_since_start                          8220 non-null   int64  \n",
      " 12  hand_frequency                            8220 non-null   int64  \n",
      " 13  made_or_lost                              8220 non-null   int64  \n",
      " 14  limpers                                   8220 non-null   int64  \n",
      " 15  raises&reraises                           8220 non-null   int64  \n",
      " 16  callers                                   8220 non-null   int64  \n",
      " 17  num_players_before                        8220 non-null   int64  \n",
      " 18  num_players_after                         8220 non-null   int64  \n",
      " 19  amount_to_call                            8220 non-null   float64\n",
      " 20  average_table_vpip                        8220 non-null   float64\n",
      " 21  total_actions_witnessed                   8220 non-null   int64  \n",
      " 22  vpip_relavant_players                     8220 non-null   float64\n",
      " 23  total_actions_witnessed_relevant_players  8220 non-null   int64  \n",
      " 24  weighted_relevant_vpip                    8220 non-null   float64\n",
      "dtypes: float64(10), int64(15)\n",
      "memory usage: 1.6 MB\n"
     ]
    }
   ],
   "source": [
    "train.info()"
   ]
  },
  {
   "cell_type": "code",
   "execution_count": null,
   "metadata": {},
   "outputs": [],
   "source": []
  }
 ],
 "metadata": {
  "kernelspec": {
   "display_name": "Python 3",
   "language": "python",
   "name": "python3"
  },
  "language_info": {
   "codemirror_mode": {
    "name": "ipython",
    "version": 3
   },
   "file_extension": ".py",
   "mimetype": "text/x-python",
   "name": "python",
   "nbconvert_exporter": "python",
   "pygments_lexer": "ipython3",
   "version": "3.7.9"
  }
 },
 "nbformat": 4,
 "nbformat_minor": 4
}
