{
 "cells": [
  {
   "cell_type": "code",
   "execution_count": 66,
   "metadata": {},
   "outputs": [],
   "source": [
    "import pandas as pd\n",
    "import sqlite3\n",
    "import numpy as np \n",
    "from sklearn.ensemble import RandomForestClassifier, RandomForestRegressor\n",
    "from sklearn.model_selection import train_test_split\n",
    "from sklearn.metrics import recall_score, precision_score, accuracy_score\n",
    "pd.set_option(\"display.max_columns\", 100)\n",
    "conn = sqlite3.connect(\"drivehud.db\")\n",
    "\n",
    "\n",
    "hand_players = pd.read_sql_query(\"select * from HandsPlayers;\", conn)\n",
    "tour = pd.read_sql_query(\"select * from Tournaments;\", conn) # pretty sure these all connect to form a more full picture\n",
    "hand_history = pd.read_sql_query(\"select * from HandHistories;\", conn)\n",
    "\n",
    "hand_history.HandHistory = hand_history.HandHistory.str.split('\\r\\n')\n",
    "df = hand_history.copy()"
   ]
  },
  {
   "cell_type": "code",
   "execution_count": 67,
   "metadata": {},
   "outputs": [],
   "source": [
    "def fill_columns(df):\n",
    "    df['buyin'] = df.HandHistory.apply(lambda row: buyin(row)) \n",
    "\n",
    "    df['the_deck'] = df.HandHistory.apply(lambda row: possible_cards(row))\n",
    "\n",
    "    df['my_cards'] = df.HandHistory.apply(lambda row: hole_cards(row))\n",
    "    \n",
    "    df['blinds'] = df.HandHistory.apply(lambda row: blinds(row))\n",
    "\n",
    "    df['starting_stack'] = df.HandHistory.apply(lambda row: start_stack(row))\n",
    "    \n",
    "    df['tournament_type'] = df.HandHistory.apply(lambda row: tournament_type(row))\n",
    "\n",
    "    df['won'] = df.HandHistory.apply(lambda row: won(row))\n",
    "\n",
    "    df['bet'] = df.HandHistory.apply(lambda row: bet(row))\n",
    "    \n",
    "    df['made_money'] = df['won'] > df['bet']\n",
    "    \n",
    "    df['made_money'] = df.made_money.apply(lambda x: fix_made_money(x))\n",
    "    \n",
    "    df['total_players'] = df.HandHistory.apply(lambda x: total_players(x))\n",
    "    \n",
    "    df['card_rank'] = df.my_cards.apply(lambda x: cards_numeric(x))\n",
    "    \n",
    "\n",
    "    return df\n",
    "\n",
    "\n",
    "def fix_made_money(x):\n",
    "    result = 0\n",
    "    if x == True:\n",
    "        result = 1\n",
    "    else:\n",
    "        result = 0\n",
    "    return result\n",
    "\n",
    "\n",
    "def total_players(x):\n",
    "    count = 0\n",
    "    for elem in x:\n",
    "        if 'Pocket' in elem:\n",
    "            count += 1\n",
    "    return count \n",
    "\n",
    "def buyin(x): # this seems to work, the implementation is functionalized above \n",
    "    for elem in x:\n",
    "        if 'totalbuyin' in elem:\n",
    "            temp = elem \n",
    "            temp = temp.replace('<totalbuyin>$', '')\n",
    "            temp = temp.replace('</totalbuyin>', '')\n",
    "            return float(temp)\n",
    "\n",
    "def hole_cards(x):\n",
    "    c1 = ''\n",
    "    c2 = ''\n",
    "    for elem in x:\n",
    "        if 'Pocket' in elem and 'Hero' in elem:\n",
    "            temp = elem.split(' ')\n",
    "            for s in temp:\n",
    "                if 'Hero' in s:\n",
    "                    c1 = s.replace('player=\"Hero\">', '')\n",
    "                    c1 = c1.replace('0', '')\n",
    "                if '</cards>' in s:\n",
    "                    c2 = s.replace('</cards>', '')\n",
    "                    c2 = c2.replace('0', '')\n",
    "    if c1 != '':\n",
    "        cards = [c1, c2]\n",
    "        return cards\n",
    "    else:\n",
    "        return None\n",
    "    \n",
    "    \n",
    "def possible_cards(x): # will do this first, and then remove cards in seperate functions, still not sure how to deal with all in vs seeing later action\n",
    "    deck = []\n",
    "    for s in ['D', 'S', 'C', 'H']:\n",
    "        for c in ['2','3','4', '5', '6', '7', '8', '9', '1', 'J', 'Q', 'K', 'A']: # making 10 just 1 for consistency sake\n",
    "            temp = s + c\n",
    "            deck.append(temp)\n",
    "    return deck \n",
    "\n",
    "def blinds(x):\n",
    "    blind_list = []\n",
    "    result = []\n",
    "    for elem in x:\n",
    "        if '[cards]' in elem:\n",
    "            blind_list.append(elem)\n",
    "    for elem in blind_list:\n",
    "        temp = elem.split(' ')\n",
    "        for s in temp:\n",
    "            if 'sum' in s:\n",
    "                temp2 = s.replace('sum=\"', '')\n",
    "                temp2 = temp2.replace('\"', '')\n",
    "                result.append(float(temp2))\n",
    "    return result \n",
    "\n",
    "def start_stack(x):\n",
    "    result = ''\n",
    "    temp = ''\n",
    "    for elem in x:\n",
    "        if 'Hero' in elem and 'addon' in elem:\n",
    "            temp = elem\n",
    "    \n",
    "    if temp != '':\n",
    "        temp = temp.split(' ')\n",
    "        for elem in temp:\n",
    "            if 'chips' in elem:\n",
    "                result = elem.replace('chips=\"', '')\n",
    "                result = result.replace('\"', '')\n",
    "                result = float(result)\n",
    "    return result \n",
    "\n",
    "def won(x):\n",
    "    won = ''\n",
    "    temp = ''\n",
    "    for elem in x:\n",
    "        if 'Hero' in elem and 'addon' in elem:\n",
    "            temp = elem\n",
    "    \n",
    "    if temp != '':\n",
    "        temp = temp.split(' ')\n",
    "        for elem in temp:\n",
    "            if 'win' in elem:\n",
    "                won = elem.replace('win=\"', '')\n",
    "                won = won.replace('\"', '')\n",
    "                won = float(won)\n",
    "    return won \n",
    "\n",
    "def bet(x):\n",
    "    bet = ''\n",
    "    temp = ''\n",
    "    for elem in x:\n",
    "        if 'Hero' in elem and 'addon' in elem:\n",
    "            temp = elem\n",
    "    \n",
    "    if temp != '':\n",
    "        temp = temp.split(' ')\n",
    "        for elem in temp:\n",
    "            if 'bet' in elem:\n",
    "                bet = elem.replace('bet=\"', '')\n",
    "                bet = bet.replace('\"', '')\n",
    "                bet = float(bet)\n",
    "    return bet \n",
    "\n",
    "\n",
    "# some tournaments just labeled 'holdem, at somepoint try to figure out what these are\n",
    "def tournament_type(x):\n",
    "    result = ''\n",
    "    cut = 0\n",
    "    counter = 0\n",
    "    for elem in x:\n",
    "        if '<tournamentname>' in elem:\n",
    "            temp = elem\n",
    "            cut = temp.count('(') \n",
    "            temp = temp.replace('<tournamentname>', '')\n",
    "            \n",
    "            for char in temp:\n",
    "                if char != '(':\n",
    "                    result += char\n",
    "                else:\n",
    "                    counter += 1\n",
    "                    if counter == cut:\n",
    "                        break \n",
    "                    else:\n",
    "                        result += char\n",
    "    result = result.rstrip()\n",
    "    result = result.replace('amp;', '')\n",
    "    if 'Table3' in result:\n",
    "        result = 'Jackpot Sit & Go $0.50'\n",
    "    return result \n",
    "\n",
    "\n",
    "def cards_numeric(x):\n",
    "    result = 0\n",
    "    if isinstance(x, list):\n",
    "        if len(x[0]) == 2 and len(x[1]) == 2:\n",
    "            c1 = x[0]\n",
    "            c2 = x[1]\n",
    "            c1_rank = c1[1]\n",
    "            c2_rank = c2[1]\n",
    "            c1_suit = c1[0]\n",
    "            c2_suit = c2[0]\n",
    "            c_rank = [c1_rank, c2_rank]\n",
    "            \n",
    "            \n",
    "            numeric_card_lst = []\n",
    "            \n",
    "            for card in c_rank: # assigning numeric value of card ranks\n",
    "                if card in ['A', 'K', 'Q', 'J', '1']:\n",
    "                    numeric_dic = {'A': 14, 'K': 13, 'Q': 12, 'J': 11, '1': 10}\n",
    "                    numeric_card_lst.append(numeric_dic[card])\n",
    "                else:\n",
    "                    numeric_card_lst.append(int(card))\n",
    "            \n",
    "            highest = max(numeric_card_lst) # assigning points for highest card\n",
    "            \n",
    "            if highest > 10: # points for over 10\n",
    "                high_vals = {14:10, 13:8, 12:7, 11:6}\n",
    "                result += high_vals[highest]\n",
    "            else: # points for 10 & under\n",
    "                result += highest / 2\n",
    "                \n",
    "            \n",
    "            if c1_suit == c2_suit: # assigning points for whether cards are suited\n",
    "                result += 2\n",
    "            \n",
    "            \n",
    "            \n",
    "            val = highest - min(numeric_card_lst) # getting the distance betweeen the cards\n",
    "            \n",
    "            if val == 0: # doubling points of pocket pairs \n",
    "                result *= 2\n",
    "                if result < 5: # worth minimum of 5 points\n",
    "                    result = 5\n",
    "            else: # now assigning points for connectedness between \n",
    "                if val <= 3: # 2 gapper and less\n",
    "                    result -= val - 1\n",
    "                else:\n",
    "                    if val == 4: # 3 gapper\n",
    "                        result -= val\n",
    "                    else: # 4 gapper and more\n",
    "                        result -= 5\n",
    "            if val <= 2 and val != 0 and numeric_card_lst[0] < 12 and numeric_card_lst[1] < 12:\n",
    "                result += 1\n",
    "                \n",
    "                    \n",
    "    return result # I elected not to round up as the formula dictates, not sure what benefit it would have in this scenario\n",
    "            "
   ]
  },
  {
   "cell_type": "code",
   "execution_count": 68,
   "metadata": {},
   "outputs": [],
   "source": [
    "df = fill_columns(df)\n",
    "df_reduced = df[['GameType', 'buyin', 'made_money', 'total_players', 'card_rank']] \n",
    "# i initially included starting stack, but decided to omit due to string values\n",
    "# this is due to how i set up the lambda function for starting stack\n",
    "# would be an esay fix, but i'll leave it for now since starting stack has little utlitity w/o BB as reference point"
   ]
  },
  {
   "cell_type": "code",
   "execution_count": 69,
   "metadata": {},
   "outputs": [],
   "source": [
    "y = np.array(df_reduced.pop('made_money'))\n",
    "X = np.array(df_reduced)"
   ]
  },
  {
   "cell_type": "code",
   "execution_count": 70,
   "metadata": {},
   "outputs": [],
   "source": [
    "X_train, X_test, y_train, y_test = train_test_split(X, y)"
   ]
  },
  {
   "cell_type": "code",
   "execution_count": 71,
   "metadata": {},
   "outputs": [
    {
     "data": {
      "text/plain": [
       "RandomForestClassifier()"
      ]
     },
     "execution_count": 71,
     "metadata": {},
     "output_type": "execute_result"
    }
   ],
   "source": [
    "rf = RandomForestClassifier()\n",
    "rf.fit(X_train, y_train)\n"
   ]
  },
  {
   "cell_type": "code",
   "execution_count": 72,
   "metadata": {},
   "outputs": [
    {
     "name": "stdout",
     "output_type": "stream",
     "text": [
      "0.8317779761421732\n",
      "0.5541448842419716\n",
      "0.3345356176735798\n"
     ]
    }
   ],
   "source": [
    "pred = rf.predict(X_test)\n",
    "accuracy = accuracy_score(y_test, pred)\n",
    "precision = precision_score(y_test, pred)\n",
    "recall = recall_score(y_test, pred)\n",
    "print(accuracy)\n",
    "print(precision)\n",
    "print(recall)"
   ]
  },
  {
   "cell_type": "code",
   "execution_count": 73,
   "metadata": {},
   "outputs": [
    {
     "data": {
      "text/plain": [
       "array([0.2091689 , 0.07152712, 0.14639988, 0.57290411])"
      ]
     },
     "execution_count": 73,
     "metadata": {},
     "output_type": "execute_result"
    }
   ],
   "source": [
    "rf.feature_importances_"
   ]
  },
  {
   "cell_type": "code",
   "execution_count": 74,
   "metadata": {},
   "outputs": [
    {
     "data": {
      "text/plain": [
       "0.1806082493051188"
      ]
     },
     "execution_count": 74,
     "metadata": {},
     "output_type": "execute_result"
    }
   ],
   "source": [
    "df.made_money.sum() / len(df.made_money) # looks like we are just always predicting that we didn't make money "
   ]
  },
  {
   "cell_type": "code",
   "execution_count": 75,
   "metadata": {},
   "outputs": [
    {
     "data": {
      "text/plain": [
       "0.10865860585896292"
      ]
     },
     "execution_count": 75,
     "metadata": {},
     "output_type": "execute_result"
    }
   ],
   "source": [
    "pred.sum() / len(pred)"
   ]
  },
  {
   "cell_type": "code",
   "execution_count": null,
   "metadata": {},
   "outputs": [],
   "source": []
  }
 ],
 "metadata": {
  "kernelspec": {
   "display_name": "Python 3",
   "language": "python",
   "name": "python3"
  },
  "language_info": {
   "codemirror_mode": {
    "name": "ipython",
    "version": 3
   },
   "file_extension": ".py",
   "mimetype": "text/x-python",
   "name": "python",
   "nbconvert_exporter": "python",
   "pygments_lexer": "ipython3",
   "version": "3.7.9"
  }
 },
 "nbformat": 4,
 "nbformat_minor": 4
}
