{
 "cells": [
  {
   "cell_type": "code",
   "execution_count": 26,
   "metadata": {},
   "outputs": [],
   "source": [
    "import pandas as pd\n",
    "import numpy as np \n"
   ]
  },
  {
   "cell_type": "code",
   "execution_count": 27,
   "metadata": {},
   "outputs": [],
   "source": [
    "top = pd.read_csv('../data/top_df.csv')\n",
    "middle = pd.read_csv('../data/middle_df.csv')\n",
    "lower = pd.read_csv('../data/lower_df.csv')"
   ]
  },
  {
   "cell_type": "code",
   "execution_count": 28,
   "metadata": {},
   "outputs": [],
   "source": [
    "middle_true_mask = middle.tn == 0\n",
    "middle_true = middle[middle_true_mask]\n",
    "middle_false_mask = middle.tp == 0\n",
    "middle_false = middle[middle_false_mask]"
   ]
  },
  {
   "cell_type": "code",
   "execution_count": 29,
   "metadata": {},
   "outputs": [
    {
     "name": "stdout",
     "output_type": "stream",
     "text": [
      "<class 'pandas.core.frame.DataFrame'>\n",
      "Int64Index: 1000 entries, 0 to 1998\n",
      "Data columns (total 10 columns):\n",
      " #   Column      Non-Null Count  Dtype  \n",
      "---  ------      --------------  -----  \n",
      " 0   Unnamed: 0  1000 non-null   int64  \n",
      " 1   precision   1000 non-null   float64\n",
      " 2   accuracy    1000 non-null   float64\n",
      " 3   recall      1000 non-null   float64\n",
      " 4   f1          1000 non-null   float64\n",
      " 5   npv         1000 non-null   float64\n",
      " 6   tp          1000 non-null   int64  \n",
      " 7   fp          1000 non-null   int64  \n",
      " 8   tn          1000 non-null   int64  \n",
      " 9   fn          1000 non-null   int64  \n",
      "dtypes: float64(5), int64(5)\n",
      "memory usage: 85.9 KB\n"
     ]
    }
   ],
   "source": [
    "middle_true.info()"
   ]
  },
  {
   "cell_type": "code",
   "execution_count": 30,
   "metadata": {},
   "outputs": [
    {
     "data": {
      "text/html": [
       "<div>\n",
       "<style scoped>\n",
       "    .dataframe tbody tr th:only-of-type {\n",
       "        vertical-align: middle;\n",
       "    }\n",
       "\n",
       "    .dataframe tbody tr th {\n",
       "        vertical-align: top;\n",
       "    }\n",
       "\n",
       "    .dataframe thead th {\n",
       "        text-align: right;\n",
       "    }\n",
       "</style>\n",
       "<table border=\"1\" class=\"dataframe\">\n",
       "  <thead>\n",
       "    <tr style=\"text-align: right;\">\n",
       "      <th></th>\n",
       "      <th>Unnamed: 0</th>\n",
       "      <th>precision</th>\n",
       "      <th>accuracy</th>\n",
       "      <th>recall</th>\n",
       "      <th>f1</th>\n",
       "      <th>npv</th>\n",
       "      <th>tp</th>\n",
       "      <th>fp</th>\n",
       "      <th>tn</th>\n",
       "      <th>fn</th>\n",
       "    </tr>\n",
       "  </thead>\n",
       "  <tbody>\n",
       "    <tr>\n",
       "      <th>0</th>\n",
       "      <td>0</td>\n",
       "      <td>0.618577</td>\n",
       "      <td>0.618577</td>\n",
       "      <td>1.0</td>\n",
       "      <td>0.764347</td>\n",
       "      <td>0.000000</td>\n",
       "      <td>626</td>\n",
       "      <td>386</td>\n",
       "      <td>0</td>\n",
       "      <td>0</td>\n",
       "    </tr>\n",
       "    <tr>\n",
       "      <th>1</th>\n",
       "      <td>1</td>\n",
       "      <td>0.000000</td>\n",
       "      <td>0.381423</td>\n",
       "      <td>0.0</td>\n",
       "      <td>0.000000</td>\n",
       "      <td>0.381423</td>\n",
       "      <td>0</td>\n",
       "      <td>0</td>\n",
       "      <td>386</td>\n",
       "      <td>626</td>\n",
       "    </tr>\n",
       "    <tr>\n",
       "      <th>2</th>\n",
       "      <td>2</td>\n",
       "      <td>0.618669</td>\n",
       "      <td>0.618669</td>\n",
       "      <td>1.0</td>\n",
       "      <td>0.764417</td>\n",
       "      <td>0.000000</td>\n",
       "      <td>623</td>\n",
       "      <td>384</td>\n",
       "      <td>0</td>\n",
       "      <td>0</td>\n",
       "    </tr>\n",
       "    <tr>\n",
       "      <th>3</th>\n",
       "      <td>3</td>\n",
       "      <td>0.000000</td>\n",
       "      <td>0.381331</td>\n",
       "      <td>0.0</td>\n",
       "      <td>0.000000</td>\n",
       "      <td>0.381331</td>\n",
       "      <td>0</td>\n",
       "      <td>0</td>\n",
       "      <td>384</td>\n",
       "      <td>623</td>\n",
       "    </tr>\n",
       "    <tr>\n",
       "      <th>4</th>\n",
       "      <td>4</td>\n",
       "      <td>0.619295</td>\n",
       "      <td>0.619295</td>\n",
       "      <td>1.0</td>\n",
       "      <td>0.764894</td>\n",
       "      <td>0.000000</td>\n",
       "      <td>597</td>\n",
       "      <td>367</td>\n",
       "      <td>0</td>\n",
       "      <td>0</td>\n",
       "    </tr>\n",
       "    <tr>\n",
       "      <th>...</th>\n",
       "      <td>...</td>\n",
       "      <td>...</td>\n",
       "      <td>...</td>\n",
       "      <td>...</td>\n",
       "      <td>...</td>\n",
       "      <td>...</td>\n",
       "      <td>...</td>\n",
       "      <td>...</td>\n",
       "      <td>...</td>\n",
       "      <td>...</td>\n",
       "    </tr>\n",
       "    <tr>\n",
       "      <th>1995</th>\n",
       "      <td>1995</td>\n",
       "      <td>0.000000</td>\n",
       "      <td>0.387904</td>\n",
       "      <td>0.0</td>\n",
       "      <td>0.000000</td>\n",
       "      <td>0.387904</td>\n",
       "      <td>0</td>\n",
       "      <td>0</td>\n",
       "      <td>372</td>\n",
       "      <td>587</td>\n",
       "    </tr>\n",
       "    <tr>\n",
       "      <th>1996</th>\n",
       "      <td>1996</td>\n",
       "      <td>0.624744</td>\n",
       "      <td>0.624744</td>\n",
       "      <td>1.0</td>\n",
       "      <td>0.769037</td>\n",
       "      <td>0.000000</td>\n",
       "      <td>611</td>\n",
       "      <td>367</td>\n",
       "      <td>0</td>\n",
       "      <td>0</td>\n",
       "    </tr>\n",
       "    <tr>\n",
       "      <th>1997</th>\n",
       "      <td>1997</td>\n",
       "      <td>0.000000</td>\n",
       "      <td>0.375256</td>\n",
       "      <td>0.0</td>\n",
       "      <td>0.000000</td>\n",
       "      <td>0.375256</td>\n",
       "      <td>0</td>\n",
       "      <td>0</td>\n",
       "      <td>367</td>\n",
       "      <td>611</td>\n",
       "    </tr>\n",
       "    <tr>\n",
       "      <th>1998</th>\n",
       "      <td>1998</td>\n",
       "      <td>0.615536</td>\n",
       "      <td>0.615536</td>\n",
       "      <td>1.0</td>\n",
       "      <td>0.762021</td>\n",
       "      <td>0.000000</td>\n",
       "      <td>626</td>\n",
       "      <td>391</td>\n",
       "      <td>0</td>\n",
       "      <td>0</td>\n",
       "    </tr>\n",
       "    <tr>\n",
       "      <th>1999</th>\n",
       "      <td>1999</td>\n",
       "      <td>0.000000</td>\n",
       "      <td>0.384464</td>\n",
       "      <td>0.0</td>\n",
       "      <td>0.000000</td>\n",
       "      <td>0.384464</td>\n",
       "      <td>0</td>\n",
       "      <td>0</td>\n",
       "      <td>391</td>\n",
       "      <td>626</td>\n",
       "    </tr>\n",
       "  </tbody>\n",
       "</table>\n",
       "<p>2000 rows × 10 columns</p>\n",
       "</div>"
      ],
      "text/plain": [
       "      Unnamed: 0  precision  accuracy  recall        f1       npv   tp   fp  \\\n",
       "0              0   0.618577  0.618577     1.0  0.764347  0.000000  626  386   \n",
       "1              1   0.000000  0.381423     0.0  0.000000  0.381423    0    0   \n",
       "2              2   0.618669  0.618669     1.0  0.764417  0.000000  623  384   \n",
       "3              3   0.000000  0.381331     0.0  0.000000  0.381331    0    0   \n",
       "4              4   0.619295  0.619295     1.0  0.764894  0.000000  597  367   \n",
       "...          ...        ...       ...     ...       ...       ...  ...  ...   \n",
       "1995        1995   0.000000  0.387904     0.0  0.000000  0.387904    0    0   \n",
       "1996        1996   0.624744  0.624744     1.0  0.769037  0.000000  611  367   \n",
       "1997        1997   0.000000  0.375256     0.0  0.000000  0.375256    0    0   \n",
       "1998        1998   0.615536  0.615536     1.0  0.762021  0.000000  626  391   \n",
       "1999        1999   0.000000  0.384464     0.0  0.000000  0.384464    0    0   \n",
       "\n",
       "       tn   fn  \n",
       "0       0    0  \n",
       "1     386  626  \n",
       "2       0    0  \n",
       "3     384  623  \n",
       "4       0    0  \n",
       "...   ...  ...  \n",
       "1995  372  587  \n",
       "1996    0    0  \n",
       "1997  367  611  \n",
       "1998    0    0  \n",
       "1999  391  626  \n",
       "\n",
       "[2000 rows x 10 columns]"
      ]
     },
     "execution_count": 30,
     "metadata": {},
     "output_type": "execute_result"
    }
   ],
   "source": [
    "middle"
   ]
  },
  {
   "cell_type": "code",
   "execution_count": 31,
   "metadata": {},
   "outputs": [
    {
     "data": {
      "text/plain": [
       "Unnamed: 0    499.500000\n",
       "precision       0.755070\n",
       "accuracy        0.755070\n",
       "recall          1.000000\n",
       "f1              0.860436\n",
       "npv             0.000000\n",
       "tp            472.033000\n",
       "fp            153.143000\n",
       "tn              0.000000\n",
       "fn              0.000000\n",
       "dtype: float64"
      ]
     },
     "execution_count": 31,
     "metadata": {},
     "output_type": "execute_result"
    }
   ],
   "source": [
    "np.mean(top)"
   ]
  },
  {
   "cell_type": "code",
   "execution_count": 32,
   "metadata": {},
   "outputs": [
    {
     "data": {
      "text/plain": [
       "Unnamed: 0    1000.000000\n",
       "precision        0.000000\n",
       "accuracy         0.381503\n",
       "recall           0.000000\n",
       "f1               0.000000\n",
       "npv              0.381503\n",
       "tp               0.000000\n",
       "fp               0.000000\n",
       "tn             383.280000\n",
       "fn             621.368000\n",
       "dtype: float64"
      ]
     },
     "execution_count": 32,
     "metadata": {},
     "output_type": "execute_result"
    }
   ],
   "source": [
    "np.mean(middle_false)"
   ]
  },
  {
   "cell_type": "code",
   "execution_count": 33,
   "metadata": {},
   "outputs": [
    {
     "data": {
      "text/plain": [
       "Unnamed: 0    999.000000\n",
       "precision       0.618497\n",
       "accuracy        0.618497\n",
       "recall          1.000000\n",
       "f1              0.764278\n",
       "npv             0.000000\n",
       "tp            621.368000\n",
       "fp            383.280000\n",
       "tn              0.000000\n",
       "fn              0.000000\n",
       "dtype: float64"
      ]
     },
     "execution_count": 33,
     "metadata": {},
     "output_type": "execute_result"
    }
   ],
   "source": [
    "np.mean(middle_true)"
   ]
  },
  {
   "cell_type": "code",
   "execution_count": 34,
   "metadata": {},
   "outputs": [
    {
     "data": {
      "text/plain": [
       "Unnamed: 0    499.500000\n",
       "precision       0.000000\n",
       "accuracy        0.637567\n",
       "recall          0.000000\n",
       "f1              0.000000\n",
       "npv             0.637567\n",
       "tp              0.000000\n",
       "fp              0.000000\n",
       "tn            324.577000\n",
       "fn            184.599000\n",
       "dtype: float64"
      ]
     },
     "execution_count": 34,
     "metadata": {},
     "output_type": "execute_result"
    }
   ],
   "source": [
    "np.mean(lower)"
   ]
  },
  {
   "cell_type": "code",
   "execution_count": 35,
   "metadata": {},
   "outputs": [],
   "source": [
    "top_50 = pd.read_csv('../data/top__50.csv')\n",
    "middle_false_50 = pd.read_csv('../data/middle_false_50.csv')\n",
    "middle_true_50 = pd.read_csv('../data/middle_true_50.csv')\n",
    "\n",
    "lower_50 = pd.read_csv('../data/lower_50.csv')"
   ]
  },
  {
   "cell_type": "code",
   "execution_count": 36,
   "metadata": {},
   "outputs": [
    {
     "data": {
      "text/plain": [
       "Unnamed: 0    499.500000\n",
       "precision       0.755210\n",
       "accuracy        0.755210\n",
       "recall          1.000000\n",
       "f1              0.860526\n",
       "npv             0.000000\n",
       "tp            471.783000\n",
       "fp            152.954000\n",
       "tn              0.000000\n",
       "fn              0.000000\n",
       "dtype: float64"
      ]
     },
     "execution_count": 36,
     "metadata": {},
     "output_type": "execute_result"
    }
   ],
   "source": [
    "np.mean(top_50)\n",
    "np.mean(top)"
   ]
  },
  {
   "cell_type": "code",
   "execution_count": 37,
   "metadata": {},
   "outputs": [
    {
     "data": {
      "text/plain": [
       "Unnamed: 0    1000.000000\n",
       "precision        0.000000\n",
       "accuracy         0.410982\n",
       "recall           0.000000\n",
       "f1               0.000000\n",
       "npv              0.410982\n",
       "tp               0.000000\n",
       "fp               0.000000\n",
       "tn             515.264000\n",
       "fn             738.498000\n",
       "dtype: float64"
      ]
     },
     "execution_count": 37,
     "metadata": {},
     "output_type": "execute_result"
    }
   ],
   "source": [
    "np.mean(middle_false_50)\n",
    "np.mean(middle_false)"
   ]
  },
  {
   "cell_type": "code",
   "execution_count": 43,
   "metadata": {},
   "outputs": [
    {
     "name": "stdout",
     "output_type": "stream",
     "text": [
      "Unnamed: 0    999.000000\n",
      "precision       0.589018\n",
      "accuracy        0.589018\n",
      "recall          1.000000\n",
      "f1              0.741357\n",
      "npv             0.000000\n",
      "tp            738.498000\n",
      "fp            515.264000\n",
      "tn              0.000000\n",
      "fn              0.000000\n",
      "dtype: float64\n",
      "Unnamed: 0    999.000000\n",
      "precision       0.618497\n",
      "accuracy        0.618497\n",
      "recall          1.000000\n",
      "f1              0.764278\n",
      "npv             0.000000\n",
      "tp            621.368000\n",
      "fp            383.280000\n",
      "tn              0.000000\n",
      "fn              0.000000\n",
      "dtype: float64\n"
     ]
    }
   ],
   "source": [
    "print(np.mean(middle_true_50))\n",
    "print(np.mean(middle_true))"
   ]
  },
  {
   "cell_type": "code",
   "execution_count": 42,
   "metadata": {},
   "outputs": [
    {
     "name": "stdout",
     "output_type": "stream",
     "text": [
      "Unnamed: 0    499.500000\n",
      "precision       0.000000\n",
      "accuracy        0.740127\n",
      "recall          0.000000\n",
      "f1              0.000000\n",
      "npv             0.740127\n",
      "tp              0.000000\n",
      "fp              0.000000\n",
      "tn            192.782000\n",
      "fn             67.719000\n",
      "dtype: float64\n",
      "Unnamed: 0    499.500000\n",
      "precision       0.000000\n",
      "accuracy        0.637567\n",
      "recall          0.000000\n",
      "f1              0.000000\n",
      "npv             0.637567\n",
      "tp              0.000000\n",
      "fp              0.000000\n",
      "tn            324.577000\n",
      "fn            184.599000\n",
      "dtype: float64\n",
      "1000\n",
      "1000\n"
     ]
    }
   ],
   "source": [
    "print(np.mean(lower_50))\n",
    "print(np.mean(lower))\n",
    "print(len(lower))\n",
    "print(len(lower_50))"
   ]
  },
  {
   "cell_type": "code",
   "execution_count": null,
   "metadata": {},
   "outputs": [],
   "source": []
  },
  {
   "cell_type": "code",
   "execution_count": null,
   "metadata": {},
   "outputs": [],
   "source": []
  },
  {
   "cell_type": "code",
   "execution_count": null,
   "metadata": {},
   "outputs": [],
   "source": []
  }
 ],
 "metadata": {
  "kernelspec": {
   "display_name": "Python 3",
   "language": "python",
   "name": "python3"
  },
  "language_info": {
   "codemirror_mode": {
    "name": "ipython",
    "version": 3
   },
   "file_extension": ".py",
   "mimetype": "text/x-python",
   "name": "python",
   "nbconvert_exporter": "python",
   "pygments_lexer": "ipython3",
   "version": "3.7.9"
  }
 },
 "nbformat": 4,
 "nbformat_minor": 4
}
