{
 "cells": [
  {
   "cell_type": "code",
   "execution_count": 1,
   "metadata": {},
   "outputs": [],
   "source": [
    "import pandas as pd \n",
    "pd.set_option('display.max_columns', None)\n"
   ]
  },
  {
   "cell_type": "code",
   "execution_count": 2,
   "metadata": {},
   "outputs": [],
   "source": [
    "train = pd.read_csv('../data/train_classification_tournaments_4-25.csv')\n",
    "hold = pd.read_csv('../data/holdout_classification_tournaments_4-25.csv')\n"
   ]
  },
  {
   "cell_type": "code",
   "execution_count": 3,
   "metadata": {},
   "outputs": [
    {
     "data": {
      "text/plain": [
       "0.5955610357583231"
      ]
     },
     "execution_count": 3,
     "metadata": {},
     "output_type": "execute_result"
    }
   ],
   "source": [
    "train.made_or_lost.sum() / len(train)"
   ]
  },
  {
   "cell_type": "code",
   "execution_count": 4,
   "metadata": {},
   "outputs": [
    {
     "data": {
      "text/plain": [
       "0.593094944512947"
      ]
     },
     "execution_count": 4,
     "metadata": {},
     "output_type": "execute_result"
    }
   ],
   "source": [
    "hold.made_or_lost.sum() / len(hold)"
   ]
  },
  {
   "cell_type": "code",
   "execution_count": 5,
   "metadata": {},
   "outputs": [
    {
     "data": {
      "text/plain": [
       "12165"
      ]
     },
     "execution_count": 5,
     "metadata": {},
     "output_type": "execute_result"
    }
   ],
   "source": [
    "len(train) + len(hold)"
   ]
  },
  {
   "cell_type": "code",
   "execution_count": 6,
   "metadata": {},
   "outputs": [
    {
     "name": "stdout",
     "output_type": "stream",
     "text": [
      "<class 'pandas.core.frame.DataFrame'>\n",
      "RangeIndex: 8556 entries, 0 to 8555\n",
      "Data columns (total 66 columns):\n",
      " #   Column                                    Non-Null Count  Dtype  \n",
      "---  ------                                    --------------  -----  \n",
      " 0   Unnamed: 0                                8556 non-null   int64  \n",
      " 1   Unnamed: 0.1                              8556 non-null   int64  \n",
      " 2   HandHistoryId                             8556 non-null   int64  \n",
      " 3   HandNumber                                8556 non-null   int64  \n",
      " 4   PokerSiteId                               8556 non-null   int64  \n",
      " 5   HandHistory                               8556 non-null   object \n",
      " 6   HandHistoryTimestamp                      8556 non-null   object \n",
      " 7   GameType                                  8556 non-null   int64  \n",
      " 8   TournamentNumber                          8556 non-null   int64  \n",
      " 9   buyin                                     8556 non-null   float64\n",
      " 10  cash_or_tourn                             8556 non-null   object \n",
      " 11  my_blind_anti_total                       8556 non-null   float64\n",
      " 12  my_cards                                  8556 non-null   object \n",
      " 13  starting_stack                            8556 non-null   float64\n",
      " 14  tournament_type                           8556 non-null   object \n",
      " 15  won                                       8556 non-null   float64\n",
      " 16  bet                                       8556 non-null   float64\n",
      " 17  total_players                             8556 non-null   int64  \n",
      " 18  position                                  8556 non-null   float64\n",
      " 19  table_max_players                         8556 non-null   int64  \n",
      " 20  bets_before_my_preflop_action             8556 non-null   float64\n",
      " 21  action_type                               8556 non-null   object \n",
      " 22  player_names                              8556 non-null   object \n",
      " 23  players_acting_before_me                  8556 non-null   object \n",
      " 24  players_acting_after_me                   8556 non-null   object \n",
      " 25  limpers                                   8556 non-null   int64  \n",
      " 26  raises&reraises                           8556 non-null   int64  \n",
      " 27  callers                                   8556 non-null   int64  \n",
      " 28  hour                                      8556 non-null   int64  \n",
      " 29  year_month_day                            8556 non-null   object \n",
      " 30  days_since_start                          8556 non-null   int64  \n",
      " 31  hand_frequency                            8556 non-null   int64  \n",
      " 32  blinds                                    8556 non-null   object \n",
      " 33  made_money                                8556 non-null   int64  \n",
      " 34  card_rank                                 8556 non-null   float64\n",
      " 35  BB                                        8556 non-null   float64\n",
      " 36  BB_in_stack                               8556 non-null   float64\n",
      " 37  net_outcome                               8556 non-null   float64\n",
      " 38  all_in                                    8556 non-null   float64\n",
      " 39  money_beyond_blind                        8556 non-null   int64  \n",
      " 40  outcome_relative_to_start                 8556 non-null   float64\n",
      " 41  made_or_lost                              8556 non-null   int64  \n",
      " 42  prior_actions                             8556 non-null   object \n",
      " 43  vpip_all_players                          8556 non-null   object \n",
      " 44  vpip_players_after                        6159 non-null   float64\n",
      " 45  vpip_players_before                       3789 non-null   float64\n",
      " 46  num_players_before                        8556 non-null   int64  \n",
      " 47  num_players_after                         8556 non-null   int64  \n",
      " 48  num_actions_before_players                8556 non-null   int64  \n",
      " 49  num_actions_after_players                 8556 non-null   int64  \n",
      " 50  amount_to_call                            8556 non-null   float64\n",
      " 51  average_table_vpip                        8262 non-null   float64\n",
      " 52  total_actions_witnessed                   8556 non-null   int64  \n",
      " 53  vpip_relavant_players                     8218 non-null   float64\n",
      " 54  total_actions_witnessed_relevant_players  8556 non-null   int64  \n",
      " 55  weighted_relevant_vpip                    8218 non-null   float64\n",
      " 56  limps&calls                               8556 non-null   int64  \n",
      " 57  flop_bet                                  8556 non-null   float64\n",
      " 58  turn_bet                                  8556 non-null   float64\n",
      " 59  river_bet                                 8556 non-null   float64\n",
      " 60  preflop_bet                               8556 non-null   float64\n",
      " 61  high_card                                 8556 non-null   float64\n",
      " 62  low_card                                  8556 non-null   float64\n",
      " 63  suited                                    8556 non-null   int64  \n",
      " 64  pocket_pair                               8556 non-null   int64  \n",
      " 65  gap                                       8556 non-null   float64\n",
      "dtypes: float64(26), int64(27), object(13)\n",
      "memory usage: 4.3+ MB\n"
     ]
    }
   ],
   "source": [
    "train.info()"
   ]
  },
  {
   "cell_type": "code",
   "execution_count": null,
   "metadata": {},
   "outputs": [],
   "source": []
  }
 ],
 "metadata": {
  "kernelspec": {
   "display_name": "Python 3",
   "language": "python",
   "name": "python3"
  },
  "language_info": {
   "codemirror_mode": {
    "name": "ipython",
    "version": 3
   },
   "file_extension": ".py",
   "mimetype": "text/x-python",
   "name": "python",
   "nbconvert_exporter": "python",
   "pygments_lexer": "ipython3",
   "version": "3.7.9"
  }
 },
 "nbformat": 4,
 "nbformat_minor": 4
}
