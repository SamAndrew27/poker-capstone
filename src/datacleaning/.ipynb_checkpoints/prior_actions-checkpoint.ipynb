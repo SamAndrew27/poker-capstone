{
 "cells": [
  {
   "cell_type": "code",
   "execution_count": null,
   "metadata": {},
   "outputs": [],
   "source": [
    "import pandas as pd \n",
    "import numpy as np \n",
    "from create_df import load_df, implement_column_creation\n",
    "pd.set_option('display.max_columns', None)\n",
    "df = load_df()\n",
    "df = implement_column_creation(df)\n",
    "df"
   ]
  },
  {
   "cell_type": "code",
   "execution_count": 6,
   "metadata": {},
   "outputs": [
    {
     "data": {
      "text/plain": [
       "0    10762\n",
       "1     7453\n",
       "2     6679\n",
       "3     5352\n",
       "4     4070\n",
       "5     2760\n",
       "6     1257\n",
       "7      877\n",
       "8      341\n",
       "Name: num_players_after, dtype: int64"
      ]
     },
     "execution_count": 6,
     "metadata": {},
     "output_type": "execute_result"
    }
   ],
   "source": [
    "mask = df['card_rank'] < -1\n",
    "df[mask]"
   ]
  },
  {
   "cell_type": "code",
   "execution_count": 9,
   "metadata": {},
   "outputs": [],
   "source": [
    "def actions_witnessed_after(row):\n",
    "    prior_actions = row['prior_actions']\n",
    "    total = 0\n",
    "    for player in row['players_acting_after_me']:\n",
    "        total += len(prior_actions[player])\n",
    "    return total \n",
    "df['num_actions_after_players'] = df.apply(lambda row: actions_witnessed_after(row), axis=1)"
   ]
  },
  {
   "cell_type": "code",
   "execution_count": 4,
   "metadata": {},
   "outputs": [],
   "source": [
    "def average_table_vpip(row):\n",
    "    vpip_all = row['vpip_all_players']\n",
    "    vpip_lst = []\n",
    "    players_used = 0\n",
    "    for key, val in vpip_all.items():\n",
    "        if key == 'Hero' or val == 'No Hands':\n",
    "            continue\n",
    "        else:\n",
    "            vpip_lst.append(val)\n",
    "            players_used += 1\n",
    "    return np.mean(vpip_lst)"
   ]
  },
  {
   "cell_type": "code",
   "execution_count": 11,
   "metadata": {},
   "outputs": [],
   "source": [
    "\n",
    "def vpip_relavant_players(row):\n",
    "    vpip_lst = []\n",
    "    players_before = row['players_acting_before_me']\n",
    "    players_after = row['players_acting_after_me']\n",
    "    vpip_dic = row['vpip_all_players']\n",
    "    for player in players_before:\n",
    "        if vpip_dic[player] != 'No Hands':\n",
    "            vpip_lst.append(vpip_dic[player])\n",
    "    for player in players_after:\n",
    "        if vpip_dic[player] != 'No Hands':\n",
    "            vpip_lst.append(vpip_dic[player])\n",
    "        \n",
    "    return np.mean(vpip_lst)\n",
    "    \n"
   ]
  },
  {
   "cell_type": "code",
   "execution_count": 17,
   "metadata": {},
   "outputs": [
    {
     "data": {
      "text/plain": [
       "['<session sessioncode=\"1180056\">',\n",
       " '<general>',\n",
       " '<mode>real</mode>',\n",
       " '<gametype>Holdem NL</gametype>',\n",
       " '<tablename>$500 Guaranteed ($2 Knockout 10K Chips Turbo) (#30201467)</tablename>',\n",
       " '<duration>N/A</duration>',\n",
       " '<gamecount>0</gamecount>',\n",
       " '<startdate>2019-10-30 02:37:50</startdate>',\n",
       " '<currency>USD</currency>',\n",
       " '<nickname>Hero</nickname>',\n",
       " '<bets>0</bets>',\n",
       " '<wins>0</wins>',\n",
       " '<chipsin>0</chipsin>',\n",
       " '<chipsout>0</chipsout>',\n",
       " '<ipoints>0</ipoints>',\n",
       " '<statuspoints>0</statuspoints>',\n",
       " '<awardpoints>0</awardpoints>',\n",
       " '<tournamentname>$500 Guaranteed ($2 Knockout 10K Chips Turbo) (#30201467)</tournamentname>',\n",
       " '<place>51</place>',\n",
       " '<buyin>$7+$0.70</buyin>',\n",
       " '<totalbuyin>$7.70</totalbuyin>',\n",
       " '<win>0</win>',\n",
       " '<maxplayers>9</maxplayers>',\n",
       " '<pokersite>Ignition</pokersite>',\n",
       " '</general>',\n",
       " '<game gamecode=\"3953871497\">',\n",
       " '<general>',\n",
       " '<startdate>2019-10-30 04:17:38</startdate>',\n",
       " '<players>',\n",
       " '<player seat=\"6\" name=\"P64_513163EY\" chips=\"51861\" dealer=\"0\" win=\"0\" bet=\"200\" rebuy=\"0\" addon=\"0\" />',\n",
       " '<player seat=\"7\" name=\"P102_436635KK\" chips=\"14480\" dealer=\"0\" win=\"0\" bet=\"14480\" rebuy=\"0\" addon=\"0\" />',\n",
       " '<player seat=\"8\" name=\"P98_803173KE\" chips=\"51080\" dealer=\"0\" win=\"0\" bet=\"14480\" rebuy=\"0\" addon=\"0\" />',\n",
       " '<player seat=\"9\" name=\"P55_104336QH\" chips=\"5815\" dealer=\"0\" win=\"0\" bet=\"200\" rebuy=\"0\" addon=\"0\" />',\n",
       " '<player seat=\"1\" name=\"Hero\" chips=\"25114\" dealer=\"1\" win=\"0\" bet=\"200\" rebuy=\"0\" addon=\"0\" />',\n",
       " '<player seat=\"2\" name=\"P95_634568CR\" chips=\"65910\" dealer=\"0\" win=\"97870\" bet=\"65910\" rebuy=\"0\" addon=\"0\" />',\n",
       " '<player seat=\"3\" name=\"P5_226470SF\" chips=\"94110\" dealer=\"0\" win=\"0\" bet=\"2200\" rebuy=\"0\" addon=\"0\" />',\n",
       " '<player seat=\"4\" name=\"P104_672583CJ\" chips=\"35640\" dealer=\"0\" win=\"0\" bet=\"200\" rebuy=\"0\" addon=\"0\" />',\n",
       " '</players>',\n",
       " '</general>',\n",
       " '<round no=\"0\">',\n",
       " '<action no=\"1\" player=\"P64_513163EY\" type=\"15\" sum=\"200\" cards=\"[cards]\" />',\n",
       " '<action no=\"2\" player=\"P102_436635KK\" type=\"15\" sum=\"200\" cards=\"[cards]\" />',\n",
       " '<action no=\"3\" player=\"P98_803173KE\" type=\"15\" sum=\"200\" cards=\"[cards]\" />',\n",
       " '<action no=\"4\" player=\"P55_104336QH\" type=\"15\" sum=\"200\" cards=\"[cards]\" />',\n",
       " '<action no=\"5\" player=\"Hero\" type=\"15\" sum=\"200\" cards=\"[cards]\" />',\n",
       " '<action no=\"6\" player=\"P95_634568CR\" type=\"15\" sum=\"200\" cards=\"[cards]\" />',\n",
       " '<action no=\"7\" player=\"P5_226470SF\" type=\"15\" sum=\"200\" cards=\"[cards]\" />',\n",
       " '<action no=\"8\" player=\"P104_672583CJ\" type=\"15\" sum=\"200\" cards=\"[cards]\" />',\n",
       " '<action no=\"9\" player=\"P95_634568CR\" type=\"1\" sum=\"1000\" cards=\"[cards]\" />',\n",
       " '<action no=\"10\" player=\"P5_226470SF\" type=\"2\" sum=\"2000\" cards=\"[cards]\" />',\n",
       " '</round>',\n",
       " '<round no=\"1\">',\n",
       " '<cards type=\"Pocket\" player=\"P64_513163EY\">X X</cards>',\n",
       " '<cards type=\"Pocket\" player=\"P102_436635KK\">D6 D9</cards>',\n",
       " '<cards type=\"Pocket\" player=\"P98_803173KE\">X X</cards>',\n",
       " '<cards type=\"Pocket\" player=\"P55_104336QH\">X X</cards>',\n",
       " '<cards type=\"Pocket\" player=\"Hero\">C10 H8</cards>',\n",
       " '<cards type=\"Pocket\" player=\"P95_634568CR\">HA H4</cards>',\n",
       " '<cards type=\"Pocket\" player=\"P5_226470SF\">X X</cards>',\n",
       " '<cards type=\"Pocket\" player=\"P104_672583CJ\">X X</cards>',\n",
       " '<action no=\"11\" player=\"P104_672583CJ\" type=\"0\" sum=\"0\" cards=\"\" />',\n",
       " '<action no=\"12\" player=\"P64_513163EY\" type=\"0\" sum=\"0\" cards=\"\" />',\n",
       " '<action no=\"13\" player=\"P102_436635KK\" type=\"7\" sum=\"14280\" cards=\"\" />',\n",
       " '<action no=\"14\" player=\"P98_803173KE\" type=\"3\" sum=\"14280\" cards=\"\" />',\n",
       " '<action no=\"15\" player=\"P55_104336QH\" type=\"0\" sum=\"0\" cards=\"\" />',\n",
       " '<action no=\"16\" player=\"Hero\" type=\"0\" sum=\"0\" cards=\"\" />',\n",
       " '<action no=\"17\" player=\"P95_634568CR\" type=\"3\" sum=\"13280\" cards=\"\" />',\n",
       " '<action no=\"18\" player=\"P5_226470SF\" type=\"0\" sum=\"0\" cards=\"\" />',\n",
       " '</round>',\n",
       " '<round no=\"2\">',\n",
       " '<cards type=\"Flop\" player=\"\">S6 DQ CA</cards>',\n",
       " '<action no=\"19\" player=\"P95_634568CR\" type=\"7\" sum=\"51430\" cards=\"\" />',\n",
       " '<action no=\"20\" player=\"P98_803173KE\" type=\"0\" sum=\"0\" cards=\"\" />',\n",
       " '</round>',\n",
       " '<round no=\"3\">',\n",
       " '<cards type=\"Turn\" player=\"\">HQ</cards>',\n",
       " '</round>',\n",
       " '<round no=\"4\">',\n",
       " '<cards type=\"River\" player=\"\">CK</cards>',\n",
       " '</round>',\n",
       " '</game>',\n",
       " '</session>']"
      ]
     },
     "execution_count": 17,
     "metadata": {},
     "output_type": "execute_result"
    }
   ],
   "source": [
    "df.HandHistory.iloc[1000]"
   ]
  },
  {
   "cell_type": "code",
   "execution_count": 55,
   "metadata": {},
   "outputs": [],
   "source": [
    "def callers(x): # pretty sure this works but consider checking to make sure \n",
    "    bet = 0\n",
    "    player_name = 0\n",
    "    player_amount_bet = {} # store amount bet to delineate shoves from calls (all shoves are shoves but some are raises and some are calls)       \n",
    "    for elem in x: # getting amount put in prior to betting\n",
    "        if '[cards]' in elem and ('type=\"1\"' in elem or 'type=\"2\"' in elem): # ignores antis  \n",
    "            for sub_string in elem.split():\n",
    "                if 'player' in sub_string:\n",
    "                    player_name = sub_string.replace('player=\"', '').replace('\"', '') \n",
    "                if 'sum' in sub_string:\n",
    "                    bet = float(sub_string.replace('sum=\"', '').replace('\"', '')) \n",
    "                player_amount_bet[player_name] = bet\n",
    "                            \n",
    "    for idx, elem in enumerate(x): \n",
    "        if 'Pocket' in elem:\n",
    "            start = idx\n",
    "    subset = x[start+1:] # subset containing preflop action until end\n",
    "    for idx, elem in enumerate(subset):\n",
    "        if '</round>' in elem:\n",
    "            stop = idx\n",
    "            break \n",
    "    subset = subset[:stop] # subset containing just preflop action   \n",
    "    \n",
    "    raise_happened = False # trigger for when a raise occures \n",
    "    count = 0\n",
    "    for elem in subset:\n",
    "\n",
    "        if 'Hero' in elem:\n",
    "            break\n",
    "\n",
    "        for sub_string in elem.split(): # gets amount shoved or raised & players name\n",
    "            if 'player' in sub_string:\n",
    "                player_name = sub_string.replace('player=\"', '').replace('\"', '') \n",
    "            if 'sum' in sub_string:\n",
    "                bet = float(sub_string.replace('sum=\"', '').replace('\"', ''))            \n",
    "\n",
    "        if ('type=\"23\"' in elem or 'type=\"7\"' in elem) and raise_happened == False: # finds shoves & raises, trying to avoid edge cases here but probably some extraneous stuff\n",
    "\n",
    "            if 'type=\"7\"' in elem:\n",
    "                if bet > max(player_amount_bet.values()):# checks to see if shove was a raise or call \n",
    "                    raise_happened = True\n",
    "            else: # for raises\n",
    "                raise_happened = True\n",
    "\n",
    "                \n",
    "        if raise_happened:\n",
    "            if 'type=\"3\"' in elem:\n",
    "                count += 1\n",
    "            if 'type=\"7\"' in elem:\n",
    "                if bet <= max(player_amount_bet.values()):\n",
    "                    count += 1\n",
    "        if player_name not in player_amount_bet:\n",
    "            player_amount_bet[player_name] = bet\n",
    "        else:\n",
    "            player_amount_bet[player_name] += bet\n",
    "    return count "
   ]
  },
  {
   "cell_type": "code",
   "execution_count": 56,
   "metadata": {},
   "outputs": [],
   "source": [
    "df['callers'] = df['HandHistory'].apply(lambda x: callers(x))"
   ]
  },
  {
   "cell_type": "code",
   "execution_count": 58,
   "metadata": {},
   "outputs": [
    {
     "data": {
      "text/plain": [
       "0    37832\n",
       "1     1464\n",
       "2      222\n",
       "3       29\n",
       "4        3\n",
       "5        1\n",
       "Name: callers, dtype: int64"
      ]
     },
     "execution_count": 58,
     "metadata": {},
     "output_type": "execute_result"
    }
   ],
   "source": [
    "df.callers.value_counts()"
   ]
  },
  {
   "cell_type": "code",
   "execution_count": 39,
   "metadata": {},
   "outputs": [
    {
     "data": {
      "text/plain": [
       "['<action no=\"10\" player=\"P64_513163EY\" type=\"0\" sum=\"0\" cards=\"\" />',\n",
       " '<action no=\"11\" player=\"P11_428501AV\" type=\"0\" sum=\"0\" cards=\"\" />',\n",
       " '<action no=\"12\" player=\"P23_420145NW\" type=\"3\" sum=\"300\" cards=\"\" />',\n",
       " '<action no=\"13\" player=\"Hero\" type=\"0\" sum=\"0\" cards=\"\" />',\n",
       " '<action no=\"14\" player=\"P30_755134VL\" type=\"3\" sum=\"300\" cards=\"\" />',\n",
       " '<action no=\"15\" player=\"P2_683833PE\" type=\"0\" sum=\"0\" cards=\"\" />',\n",
       " '<action no=\"16\" player=\"P72_196053CF\" type=\"4\" sum=\"0\" cards=\"\" />']"
      ]
     },
     "execution_count": 39,
     "metadata": {},
     "output_type": "execute_result"
    }
   ],
   "source": [
    "df.limpers.iloc[955]\n"
   ]
  },
  {
   "cell_type": "code",
   "execution_count": null,
   "metadata": {},
   "outputs": [],
   "source": []
  }
 ],
 "metadata": {
  "kernelspec": {
   "display_name": "Python 3",
   "language": "python",
   "name": "python3"
  },
  "language_info": {
   "codemirror_mode": {
    "name": "ipython",
    "version": 3
   },
   "file_extension": ".py",
   "mimetype": "text/x-python",
   "name": "python",
   "nbconvert_exporter": "python",
   "pygments_lexer": "ipython3",
   "version": "3.7.9"
  }
 },
 "nbformat": 4,
 "nbformat_minor": 4
}
